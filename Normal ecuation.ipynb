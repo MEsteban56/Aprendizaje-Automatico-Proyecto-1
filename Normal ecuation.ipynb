{
 "cells": [
  {
   "cell_type": "markdown",
   "id": "ac7921f3",
   "metadata": {},
   "source": [
    "# Normal Ecuation: Code & Simple Test"
   ]
  },
  {
   "cell_type": "markdown",
   "id": "72669f03",
   "metadata": {},
   "source": [
    "## Carga de librerías"
   ]
  },
  {
   "cell_type": "markdown",
   "id": "f3264381",
   "metadata": {},
   "source": [
    "Primero se cargan las librerias que serán utilizadas para el algoritmo y la prueba de este:"
   ]
  },
  {
   "cell_type": "code",
   "execution_count": 1,
   "id": "aa47063c",
   "metadata": {},
   "outputs": [],
   "source": [
    "import numpy as np\n",
    "import pandas as pd\n",
    "import matplotlib.pyplot as plt\n",
    "import random "
   ]
  },
  {
   "cell_type": "markdown",
   "id": "f7f71fb2",
   "metadata": {},
   "source": [
    "## Normal Ecuation Function "
   ]
  },
  {
   "cell_type": "markdown",
   "id": "b38ebbfb",
   "metadata": {},
   "source": [
    "Posteriormente se crea el código del algoritmo, para ello se parte de la ecuación normal de para obtener directamente el vector de bias y pesos: $\\hat\\theta$:\n",
    "\n",
    "### $$\\hat\\theta = (X^TX)^{-1}X^Ty$$\n",
    "\n",
    "La función creada toma por nombre ``normal_equation()``, y su descripción se encuentra dentro de la misma, el resultado final de esta se encuentra, por facilidad, en el archivo **\"multivariate_linear_regression.py\"** , desde el cual será llamada para su aplicación. \n",
    "\n",
    "Los argumentos de la función **X** y **Y** son DataFrames de Pandas, pues facilita la separación de los datos en training y test mediante la funión ``df.iloc[]``."
   ]
  },
  {
   "cell_type": "code",
   "execution_count": 4,
   "id": "59649f56",
   "metadata": {},
   "outputs": [],
   "source": [
    "def normal_equation(X, Y, percent):\n",
    "    '''Esta función sirve para utilizar el método de regresión lineal con ecuación normal\n",
    "    normal_equation(X, Y, percent): \n",
    "    X: Matriz columna de inputs \n",
    "    Y: Matriz columna de outputs\n",
    "    percent: % de datos que seran utilizados para el test (base 100)\n",
    "    \n",
    "    Return: theta, test_index, train_index, Y_predict\n",
    "    \n",
    "    test_index: indices de los valores utilizados para el test\n",
    "    train_index: indices de los valores utilizados para el entrenamiento\n",
    "    theta: valores correspondientes a theta_n\n",
    "    Y_predict: valores de Y obtenidos de la predicción\n",
    "    '''\n",
    "    import numpy as np\n",
    "    import pandas as pd\n",
    "    import random as random\n",
    "    \n",
    "    m = len(X)\n",
    "    test_index = list(pd.Series(random.sample(list(np.arange(0, m)), round(m * percent / 100))).sort_values())\n",
    "    train_index = list(np.arange(0, m)) \n",
    "    \n",
    "    for indice in test_index:\n",
    "        train_index.remove(indice)\n",
    "\n",
    "    X_train = np.c_[X.iloc[train_index]]\n",
    "    X_test = np.c_[X.iloc[test_index]]\n",
    "    Y_train = np.c_[Y.iloc[train_index]]\n",
    "    Y_test = np.c_[Y.iloc[test_index]]\n",
    "    \n",
    "    # Entrenamiento\n",
    "    m = len(X_train)\n",
    "    \n",
    "    X_b = np.c_[np.ones((m, 1)), X_train]\n",
    "    theta = np.linalg.inv(X_b.T @ X_b) @ X_b.T @ Y_train\n",
    "    \n",
    "    # test\n",
    "    \n",
    "    m = len(X_test)\n",
    "    \n",
    "    X_b_test = np.c_[np.ones((m, 1)), X_test]\n",
    "    Y_predict = X_b_test @ theta\n",
    "    \n",
    "    return theta, test_index, train_index, Y_predict"
   ]
  },
  {
   "cell_type": "markdown",
   "id": "a8c98775",
   "metadata": {},
   "source": [
    "### Prueba del algoritmo "
   ]
  },
  {
   "cell_type": "markdown",
   "id": "e86d11cd",
   "metadata": {},
   "source": [
    "Para la prueba primero se crean las variables **x** y **y**, **x** es generada de manera aleatoria, y **y** a través de la función $y = 3 + 4x + c$, donde **c** es un número aleatorio que hace posible la generación de una nube de puntos al rededor de la recta."
   ]
  },
  {
   "cell_type": "code",
   "execution_count": 8,
   "id": "eb99f346",
   "metadata": {},
   "outputs": [],
   "source": [
    "m = 300\n",
    "x = 2 * np.random.rand(m, 1)\n",
    "y = 3 + 4*x + 1.5*np.random.randn(m, 1)"
   ]
  },
  {
   "cell_type": "code",
   "execution_count": 9,
   "id": "6f31275e",
   "metadata": {},
   "outputs": [],
   "source": [
    "X = pd.DataFrame(x)\n",
    "Y = pd.DataFrame(y)\n",
    "sample = 20 # 20% de los datos son utilizados para test"
   ]
  },
  {
   "cell_type": "markdown",
   "id": "073eb257",
   "metadata": {},
   "source": [
    "Para utilizar la función deben escribirse todas las variables de salida, en caso de omitir alguna se asignaran en el mismo orden del **return**: _theta, test_index, train_index, Y_predict_."
   ]
  },
  {
   "cell_type": "code",
   "execution_count": 10,
   "id": "81502d53",
   "metadata": {},
   "outputs": [],
   "source": [
    "theta, test_index, train_index, Y_predict = normal_equation(X, Y, sample)"
   ]
  },
  {
   "cell_type": "code",
   "execution_count": 23,
   "id": "43f8fcef",
   "metadata": {},
   "outputs": [
    {
     "name": "stdout",
     "output_type": "stream",
     "text": [
      "theta [[2.959801465840667], [3.958653260654691]]\n",
      "test_index: 60\n",
      "train_index: 240\n"
     ]
    }
   ],
   "source": [
    "print('theta', theta.tolist())\n",
    "print('test_index:', len(test_index))\n",
    "print('train_index:', len(train_index))"
   ]
  },
  {
   "cell_type": "markdown",
   "id": "a1ddfc92",
   "metadata": {},
   "source": [
    "Graficando los valores reales de **y** (nube de puntos) y los valores predichos por la función ``normal_equation()``"
   ]
  },
  {
   "cell_type": "code",
   "execution_count": 25,
   "id": "922d6949",
   "metadata": {},
   "outputs": [
    {
     "data": {
      "image/png": "[encoded data removed]",
      "text/plain": [
       "<Figure size 432x288 with 1 Axes>"
      ]
     },
     "metadata": {
      "needs_background": "light"
     },
     "output_type": "display_data"
    }
   ],
   "source": [
    "plt.plot(np.c_[X], np.c_[Y], \"b.\", label = 'y')\n",
    "plt.plot(np.c_[X.iloc[test_index]], Y_predict, \"r-\", linewidth=2, label=\"Predictions\")\n",
    "plt.xlabel(\"$X_1$\", fontsize=14)\n",
    "plt.ylabel(\"$y$\", fontsize=14, rotation=0)\n",
    "plt.legend(loc=\"upper left\", fontsize=14)\n",
    "#plt.axis([0, 2, 0, 15])\n",
    "plt.grid(alpha= 0.3)\n",
    "plt.show()"
   ]
  }
 ],
 "metadata": {
  "kernelspec": {
   "display_name": "Python 3 (ipykernel)",
   "language": "python",
   "name": "python3"
  },
  "language_info": {
   "codemirror_mode": {
    "name": "ipython",
    "version": 3
   },
   "file_extension": ".py",
   "mimetype": "text/x-python",
   "name": "python",
   "nbconvert_exporter": "python",
   "pygments_lexer": "ipython3",
   "version": "3.8.8"
  }
 },
 "nbformat": 4,
 "nbformat_minor": 5
}
