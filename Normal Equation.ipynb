{
 "cells": [
  {
   "cell_type": "markdown",
   "id": "ecba96e4",
   "metadata": {},
   "source": [
    "# Cargando librerias"
   ]
  },
  {
   "cell_type": "code",
   "execution_count": 1,
   "id": "76491e63",
   "metadata": {},
   "outputs": [],
   "source": [
    "import numpy as np\n",
    "import pandas as pd\n",
    "import matplotlib.pyplot as plt\n",
    "import seaborn as sns\n",
    "import random"
   ]
  },
  {
   "cell_type": "markdown",
   "id": "3d38a5c9",
   "metadata": {},
   "source": [
    "# Función para Ecuación Normal"
   ]
  },
  {
   "cell_type": "markdown",
   "id": "9bd9bb56",
   "metadata": {},
   "source": [
    "## $$\\hat\\theta = (X^TX)^{-1}X^Ty$$"
   ]
  },
  {
   "cell_type": "code",
   "execution_count": 56,
   "id": "4f7f1862",
   "metadata": {},
   "outputs": [],
   "source": [
    "def normal_equation(X, Y, percent):\n",
    "    '''Esta función sirve para utilizar el método de regresión lineal con ecuación normal\n",
    "    normal_equation(X, Y): \n",
    "    X: Matriz columna de inputs \n",
    "    Y: Matriz columna de outputs\n",
    "    percent: % de datos que seran utilizados para el test (base 100)\n",
    "    \n",
    "    Return: indices_test, indices_train, theta, Y_predict\n",
    "    \n",
    "    indices_test: indices de los valores utilizados para el test\n",
    "    indices_train: indices de los valores utilizados para el entrenamiento\n",
    "    theta: valores correspondientes a theta_n\n",
    "    Y_predict: valores de Y obtenidos de la predicción\n",
    "    '''\n",
    "    import numpy as np\n",
    "    import pandas as pd\n",
    "    import random as random\n",
    "    \n",
    "    m = len(X)\n",
    "    indices_test = list(pd.Series(random.sample(list(np.arange(0, m)), round(m * percent / 100))).sort_values())\n",
    "    indices_train = list(np.arange(0, m)) \n",
    "    \n",
    "    for indice in indices_test:\n",
    "        indices_train.remove(indice)\n",
    "\n",
    "    X_train = np.c_[X.iloc[indices_train]]\n",
    "    X_test = np.c_[X.iloc[indices_test]]\n",
    "    Y_train = np.c_[Y.iloc[indices_train]]\n",
    "    Y_test = np.c_[Y.iloc[indices_test]]\n",
    "    \n",
    "    # Entrenamiento\n",
    "    m = len(X_train)\n",
    "    \n",
    "    X_b = np.c_[np.ones((m, 1)), X_train]\n",
    "    theta = np.linalg.inv(X_b.T @ X_b) @ X_b.T @ Y_train\n",
    "    \n",
    "    # test\n",
    "    \n",
    "    m = len(X_test)\n",
    "    \n",
    "    X_b_test = np.c_[np.ones((m, 1)), X_test]\n",
    "    Y_predict = X_b_test @ theta\n",
    "    \n",
    "    return indices_test, indices_train, theta, Y_predict"
   ]
  },
  {
   "cell_type": "markdown",
   "id": "c9d0f5c8",
   "metadata": {},
   "source": [
    "m = 100\n",
    "X = 2 * np.random.rand(m, 1)\n",
    "y = 3 + 4*X + 1.5*np.random.randn(m, 1)\n",
    "indices_test, indices_train, theta, Y_predict = normal_equation2(X, y, 25)"
   ]
  },
  {
   "cell_type": "markdown",
   "id": "e80f83bd",
   "metadata": {},
   "source": [
    "plt.plot(Y_predict)\n",
    "plt.plot(y[indices_test])"
   ]
  },
  {
   "cell_type": "markdown",
   "id": "365ef3c5",
   "metadata": {},
   "source": [
    "# Análisis de los datos -A-"
   ]
  },
  {
   "cell_type": "code",
   "execution_count": 37,
   "id": "571dbbd6",
   "metadata": {},
   "outputs": [],
   "source": [
    "df = pd.read_csv('datos/insurance.csv')"
   ]
  },
  {
   "cell_type": "code",
   "execution_count": 38,
   "id": "be857f8c",
   "metadata": {},
   "outputs": [
    {
     "data": {
      "text/html": [
       "<div>\n",
       "<style scoped>\n",
       "    .dataframe tbody tr th:only-of-type {\n",
       "        vertical-align: middle;\n",
       "    }\n",
       "\n",
       "    .dataframe tbody tr th {\n",
       "        vertical-align: top;\n",
       "    }\n",
       "\n",
       "    .dataframe thead th {\n",
       "        text-align: right;\n",
       "    }\n",
       "</style>\n",
       "<table border=\"1\" class=\"dataframe\">\n",
       "  <thead>\n",
       "    <tr style=\"text-align: right;\">\n",
       "      <th></th>\n",
       "      <th>age</th>\n",
       "      <th>sex</th>\n",
       "      <th>bmi</th>\n",
       "      <th>children</th>\n",
       "      <th>smoker</th>\n",
       "      <th>region</th>\n",
       "      <th>charges</th>\n",
       "    </tr>\n",
       "  </thead>\n",
       "  <tbody>\n",
       "    <tr>\n",
       "      <th>0</th>\n",
       "      <td>19</td>\n",
       "      <td>female</td>\n",
       "      <td>27.900</td>\n",
       "      <td>0</td>\n",
       "      <td>yes</td>\n",
       "      <td>southwest</td>\n",
       "      <td>16884.92400</td>\n",
       "    </tr>\n",
       "    <tr>\n",
       "      <th>1</th>\n",
       "      <td>18</td>\n",
       "      <td>male</td>\n",
       "      <td>33.770</td>\n",
       "      <td>1</td>\n",
       "      <td>no</td>\n",
       "      <td>southeast</td>\n",
       "      <td>1725.55230</td>\n",
       "    </tr>\n",
       "    <tr>\n",
       "      <th>2</th>\n",
       "      <td>28</td>\n",
       "      <td>male</td>\n",
       "      <td>33.000</td>\n",
       "      <td>3</td>\n",
       "      <td>no</td>\n",
       "      <td>southeast</td>\n",
       "      <td>4449.46200</td>\n",
       "    </tr>\n",
       "    <tr>\n",
       "      <th>3</th>\n",
       "      <td>33</td>\n",
       "      <td>male</td>\n",
       "      <td>22.705</td>\n",
       "      <td>0</td>\n",
       "      <td>no</td>\n",
       "      <td>northwest</td>\n",
       "      <td>21984.47061</td>\n",
       "    </tr>\n",
       "    <tr>\n",
       "      <th>4</th>\n",
       "      <td>32</td>\n",
       "      <td>male</td>\n",
       "      <td>28.880</td>\n",
       "      <td>0</td>\n",
       "      <td>no</td>\n",
       "      <td>northwest</td>\n",
       "      <td>3866.85520</td>\n",
       "    </tr>\n",
       "  </tbody>\n",
       "</table>\n",
       "</div>"
      ],
      "text/plain": [
       "   age     sex     bmi  children smoker     region      charges\n",
       "0   19  female  27.900         0    yes  southwest  16884.92400\n",
       "1   18    male  33.770         1     no  southeast   1725.55230\n",
       "2   28    male  33.000         3     no  southeast   4449.46200\n",
       "3   33    male  22.705         0     no  northwest  21984.47061\n",
       "4   32    male  28.880         0     no  northwest   3866.85520"
      ]
     },
     "execution_count": 38,
     "metadata": {},
     "output_type": "execute_result"
    }
   ],
   "source": [
    "df.head(5)"
   ]
  },
  {
   "cell_type": "code",
   "execution_count": 39,
   "id": "9e0aa00c",
   "metadata": {},
   "outputs": [
    {
     "data": {
      "text/plain": [
       "Index(['age', 'sex', 'bmi', 'children', 'smoker', 'region', 'charges'], dtype='object')"
      ]
     },
     "execution_count": 39,
     "metadata": {},
     "output_type": "execute_result"
    }
   ],
   "source": [
    "df.columns"
   ]
  },
  {
   "cell_type": "code",
   "execution_count": 40,
   "id": "ac7ea25f",
   "metadata": {},
   "outputs": [
    {
     "name": "stdout",
     "output_type": "stream",
     "text": [
      "<class 'pandas.core.frame.DataFrame'>\n",
      "RangeIndex: 1338 entries, 0 to 1337\n",
      "Data columns (total 7 columns):\n",
      " #   Column    Non-Null Count  Dtype  \n",
      "---  ------    --------------  -----  \n",
      " 0   age       1338 non-null   int64  \n",
      " 1   sex       1338 non-null   object \n",
      " 2   bmi       1338 non-null   float64\n",
      " 3   children  1338 non-null   int64  \n",
      " 4   smoker    1338 non-null   object \n",
      " 5   region    1338 non-null   object \n",
      " 6   charges   1338 non-null   float64\n",
      "dtypes: float64(2), int64(2), object(3)\n",
      "memory usage: 73.3+ KB\n"
     ]
    }
   ],
   "source": [
    "df.info()"
   ]
  },
  {
   "cell_type": "code",
   "execution_count": 41,
   "id": "3103724f",
   "metadata": {
    "scrolled": true
   },
   "outputs": [
    {
     "data": {
      "text/html": [
       "<div>\n",
       "<style scoped>\n",
       "    .dataframe tbody tr th:only-of-type {\n",
       "        vertical-align: middle;\n",
       "    }\n",
       "\n",
       "    .dataframe tbody tr th {\n",
       "        vertical-align: top;\n",
       "    }\n",
       "\n",
       "    .dataframe thead th {\n",
       "        text-align: right;\n",
       "    }\n",
       "</style>\n",
       "<table border=\"1\" class=\"dataframe\">\n",
       "  <thead>\n",
       "    <tr style=\"text-align: right;\">\n",
       "      <th></th>\n",
       "      <th>age</th>\n",
       "      <th>bmi</th>\n",
       "      <th>children</th>\n",
       "      <th>charges</th>\n",
       "    </tr>\n",
       "  </thead>\n",
       "  <tbody>\n",
       "    <tr>\n",
       "      <th>count</th>\n",
       "      <td>1338.000000</td>\n",
       "      <td>1338.000000</td>\n",
       "      <td>1338.000000</td>\n",
       "      <td>1338.000000</td>\n",
       "    </tr>\n",
       "    <tr>\n",
       "      <th>mean</th>\n",
       "      <td>39.207025</td>\n",
       "      <td>30.663397</td>\n",
       "      <td>1.094918</td>\n",
       "      <td>13270.422265</td>\n",
       "    </tr>\n",
       "    <tr>\n",
       "      <th>std</th>\n",
       "      <td>14.049960</td>\n",
       "      <td>6.098187</td>\n",
       "      <td>1.205493</td>\n",
       "      <td>12110.011237</td>\n",
       "    </tr>\n",
       "    <tr>\n",
       "      <th>min</th>\n",
       "      <td>18.000000</td>\n",
       "      <td>15.960000</td>\n",
       "      <td>0.000000</td>\n",
       "      <td>1121.873900</td>\n",
       "    </tr>\n",
       "    <tr>\n",
       "      <th>25%</th>\n",
       "      <td>27.000000</td>\n",
       "      <td>26.296250</td>\n",
       "      <td>0.000000</td>\n",
       "      <td>4740.287150</td>\n",
       "    </tr>\n",
       "    <tr>\n",
       "      <th>50%</th>\n",
       "      <td>39.000000</td>\n",
       "      <td>30.400000</td>\n",
       "      <td>1.000000</td>\n",
       "      <td>9382.033000</td>\n",
       "    </tr>\n",
       "    <tr>\n",
       "      <th>75%</th>\n",
       "      <td>51.000000</td>\n",
       "      <td>34.693750</td>\n",
       "      <td>2.000000</td>\n",
       "      <td>16639.912515</td>\n",
       "    </tr>\n",
       "    <tr>\n",
       "      <th>max</th>\n",
       "      <td>64.000000</td>\n",
       "      <td>53.130000</td>\n",
       "      <td>5.000000</td>\n",
       "      <td>63770.428010</td>\n",
       "    </tr>\n",
       "  </tbody>\n",
       "</table>\n",
       "</div>"
      ],
      "text/plain": [
       "               age          bmi     children       charges\n",
       "count  1338.000000  1338.000000  1338.000000   1338.000000\n",
       "mean     39.207025    30.663397     1.094918  13270.422265\n",
       "std      14.049960     6.098187     1.205493  12110.011237\n",
       "min      18.000000    15.960000     0.000000   1121.873900\n",
       "25%      27.000000    26.296250     0.000000   4740.287150\n",
       "50%      39.000000    30.400000     1.000000   9382.033000\n",
       "75%      51.000000    34.693750     2.000000  16639.912515\n",
       "max      64.000000    53.130000     5.000000  63770.428010"
      ]
     },
     "execution_count": 41,
     "metadata": {},
     "output_type": "execute_result"
    }
   ],
   "source": [
    "df.describe()"
   ]
  },
  {
   "cell_type": "code",
   "execution_count": 42,
   "id": "8c73e813",
   "metadata": {},
   "outputs": [
    {
     "data": {
      "image/png": "[encoded data removed]",
      "text/plain": [
       "<Figure size 360x360 with 1 Axes>"
      ]
     },
     "metadata": {
      "needs_background": "light"
     },
     "output_type": "display_data"
    }
   ],
   "source": [
    "sns.displot(df['age'], kind='hist')\n",
    "plt.title('Age distribution')\n",
    "plt.show()"
   ]
  },
  {
   "cell_type": "code",
   "execution_count": 43,
   "id": "f9d56d92",
   "metadata": {
    "scrolled": true
   },
   "outputs": [
    {
     "data": {
      "image/png": "[encoded data removed]",
      "text/plain": [
       "<Figure size 288x360 with 1 Axes>"
      ]
     },
     "metadata": {
      "needs_background": "light"
     },
     "output_type": "display_data"
    }
   ],
   "source": [
    "female, male = df.groupby('sex')['sex'].count()\n",
    "plt.figure(figsize=(4, 5))\n",
    "plt.bar(['female', 'male'], [female, male], color=['green', 'c'], width=0.5, tick_label=[f'female: {female}', f'male: {male}'])\n",
    "plt.title('Sex count', size=14)\n",
    "plt.ylabel('Count', size=12)\n",
    "plt.xlabel('Sex', size=12)\n",
    "plt.show()"
   ]
  },
  {
   "cell_type": "code",
   "execution_count": 44,
   "id": "01543b67",
   "metadata": {
    "scrolled": false
   },
   "outputs": [
    {
     "data": {
      "image/png": "[encoded data removed]",
      "text/plain": [
       "<Figure size 360x360 with 1 Axes>"
      ]
     },
     "metadata": {
      "needs_background": "light"
     },
     "output_type": "display_data"
    }
   ],
   "source": [
    "sns.displot(df['bmi'])\n",
    "plt.title('Bim distribution')\n",
    "plt.ylabel('Frecuency')\n",
    "plt.show()"
   ]
  },
  {
   "cell_type": "code",
   "execution_count": 45,
   "id": "e126c562",
   "metadata": {},
   "outputs": [
    {
     "data": {
      "image/png": "[encoded data removed]",
      "text/plain": [
       "<Figure size 432x288 with 1 Axes>"
      ]
     },
     "metadata": {
      "needs_background": "light"
     },
     "output_type": "display_data"
    }
   ],
   "source": [
    "sns.countplot(x=df['children'])\n",
    "plt.title('Children count')\n",
    "plt.show()"
   ]
  },
  {
   "cell_type": "code",
   "execution_count": 46,
   "id": "1e40dc55",
   "metadata": {},
   "outputs": [
    {
     "data": {
      "image/png": "[encoded data removed]",
      "text/plain": [
       "<Figure size 432x288 with 1 Axes>"
      ]
     },
     "metadata": {
      "needs_background": "light"
     },
     "output_type": "display_data"
    }
   ],
   "source": [
    "sns.countplot(x=df['smoker'])\n",
    "plt.title('Smokers count')\n",
    "plt.show()"
   ]
  },
  {
   "cell_type": "code",
   "execution_count": 47,
   "id": "91b18851",
   "metadata": {},
   "outputs": [
    {
     "data": {
      "image/png": "[encoded data removed]",
      "text/plain": [
       "<Figure size 432x288 with 1 Axes>"
      ]
     },
     "metadata": {
      "needs_background": "light"
     },
     "output_type": "display_data"
    }
   ],
   "source": [
    "sns.countplot(x=df['region'])\n",
    "plt.title('Regions count')\n",
    "plt.show()"
   ]
  },
  {
   "cell_type": "code",
   "execution_count": 48,
   "id": "a9f68655",
   "metadata": {
    "scrolled": false
   },
   "outputs": [
    {
     "data": {
      "image/png": "[encoded data removed]",
      "text/plain": [
       "<Figure size 360x360 with 1 Axes>"
      ]
     },
     "metadata": {
      "needs_background": "light"
     },
     "output_type": "display_data"
    }
   ],
   "source": [
    "sns.displot(df['charges'])\n",
    "plt.title('Charges distribution')\n",
    "plt.show()"
   ]
  },
  {
   "cell_type": "code",
   "execution_count": 49,
   "id": "c0500e94",
   "metadata": {},
   "outputs": [],
   "source": [
    "genero = pd.get_dummies(df['sex'])\n",
    "fumadores = pd.get_dummies(df['smoker'])\n",
    "region = pd.get_dummies(df['region'])\n",
    "df = pd.concat([df, genero['male'], fumadores['yes'], region], axis=1)\n",
    "df = df.drop(['sex', 'smoker', 'region'], axis=1)\n",
    "df = df.rename(columns={'male':'sex', 'yes':'smoker'})"
   ]
  },
  {
   "cell_type": "markdown",
   "id": "cc856881",
   "metadata": {},
   "source": [
    "sns.pairplot(df)\n",
    "plt.show()"
   ]
  },
  {
   "cell_type": "code",
   "execution_count": 50,
   "id": "ece04928",
   "metadata": {},
   "outputs": [
    {
     "data": {
      "text/html": [
       "<div>\n",
       "<style scoped>\n",
       "    .dataframe tbody tr th:only-of-type {\n",
       "        vertical-align: middle;\n",
       "    }\n",
       "\n",
       "    .dataframe tbody tr th {\n",
       "        vertical-align: top;\n",
       "    }\n",
       "\n",
       "    .dataframe thead th {\n",
       "        text-align: right;\n",
       "    }\n",
       "</style>\n",
       "<table border=\"1\" class=\"dataframe\">\n",
       "  <thead>\n",
       "    <tr style=\"text-align: right;\">\n",
       "      <th></th>\n",
       "      <th>age</th>\n",
       "      <th>bmi</th>\n",
       "      <th>children</th>\n",
       "      <th>charges</th>\n",
       "      <th>sex</th>\n",
       "      <th>smoker</th>\n",
       "      <th>northeast</th>\n",
       "      <th>northwest</th>\n",
       "      <th>southeast</th>\n",
       "      <th>southwest</th>\n",
       "    </tr>\n",
       "  </thead>\n",
       "  <tbody>\n",
       "    <tr>\n",
       "      <th>0</th>\n",
       "      <td>19</td>\n",
       "      <td>27.900</td>\n",
       "      <td>0</td>\n",
       "      <td>16884.92400</td>\n",
       "      <td>0</td>\n",
       "      <td>1</td>\n",
       "      <td>0</td>\n",
       "      <td>0</td>\n",
       "      <td>0</td>\n",
       "      <td>1</td>\n",
       "    </tr>\n",
       "    <tr>\n",
       "      <th>1</th>\n",
       "      <td>18</td>\n",
       "      <td>33.770</td>\n",
       "      <td>1</td>\n",
       "      <td>1725.55230</td>\n",
       "      <td>1</td>\n",
       "      <td>0</td>\n",
       "      <td>0</td>\n",
       "      <td>0</td>\n",
       "      <td>1</td>\n",
       "      <td>0</td>\n",
       "    </tr>\n",
       "    <tr>\n",
       "      <th>2</th>\n",
       "      <td>28</td>\n",
       "      <td>33.000</td>\n",
       "      <td>3</td>\n",
       "      <td>4449.46200</td>\n",
       "      <td>1</td>\n",
       "      <td>0</td>\n",
       "      <td>0</td>\n",
       "      <td>0</td>\n",
       "      <td>1</td>\n",
       "      <td>0</td>\n",
       "    </tr>\n",
       "    <tr>\n",
       "      <th>3</th>\n",
       "      <td>33</td>\n",
       "      <td>22.705</td>\n",
       "      <td>0</td>\n",
       "      <td>21984.47061</td>\n",
       "      <td>1</td>\n",
       "      <td>0</td>\n",
       "      <td>0</td>\n",
       "      <td>1</td>\n",
       "      <td>0</td>\n",
       "      <td>0</td>\n",
       "    </tr>\n",
       "    <tr>\n",
       "      <th>4</th>\n",
       "      <td>32</td>\n",
       "      <td>28.880</td>\n",
       "      <td>0</td>\n",
       "      <td>3866.85520</td>\n",
       "      <td>1</td>\n",
       "      <td>0</td>\n",
       "      <td>0</td>\n",
       "      <td>1</td>\n",
       "      <td>0</td>\n",
       "      <td>0</td>\n",
       "    </tr>\n",
       "    <tr>\n",
       "      <th>...</th>\n",
       "      <td>...</td>\n",
       "      <td>...</td>\n",
       "      <td>...</td>\n",
       "      <td>...</td>\n",
       "      <td>...</td>\n",
       "      <td>...</td>\n",
       "      <td>...</td>\n",
       "      <td>...</td>\n",
       "      <td>...</td>\n",
       "      <td>...</td>\n",
       "    </tr>\n",
       "    <tr>\n",
       "      <th>1333</th>\n",
       "      <td>50</td>\n",
       "      <td>30.970</td>\n",
       "      <td>3</td>\n",
       "      <td>10600.54830</td>\n",
       "      <td>1</td>\n",
       "      <td>0</td>\n",
       "      <td>0</td>\n",
       "      <td>1</td>\n",
       "      <td>0</td>\n",
       "      <td>0</td>\n",
       "    </tr>\n",
       "    <tr>\n",
       "      <th>1334</th>\n",
       "      <td>18</td>\n",
       "      <td>31.920</td>\n",
       "      <td>0</td>\n",
       "      <td>2205.98080</td>\n",
       "      <td>0</td>\n",
       "      <td>0</td>\n",
       "      <td>1</td>\n",
       "      <td>0</td>\n",
       "      <td>0</td>\n",
       "      <td>0</td>\n",
       "    </tr>\n",
       "    <tr>\n",
       "      <th>1335</th>\n",
       "      <td>18</td>\n",
       "      <td>36.850</td>\n",
       "      <td>0</td>\n",
       "      <td>1629.83350</td>\n",
       "      <td>0</td>\n",
       "      <td>0</td>\n",
       "      <td>0</td>\n",
       "      <td>0</td>\n",
       "      <td>1</td>\n",
       "      <td>0</td>\n",
       "    </tr>\n",
       "    <tr>\n",
       "      <th>1336</th>\n",
       "      <td>21</td>\n",
       "      <td>25.800</td>\n",
       "      <td>0</td>\n",
       "      <td>2007.94500</td>\n",
       "      <td>0</td>\n",
       "      <td>0</td>\n",
       "      <td>0</td>\n",
       "      <td>0</td>\n",
       "      <td>0</td>\n",
       "      <td>1</td>\n",
       "    </tr>\n",
       "    <tr>\n",
       "      <th>1337</th>\n",
       "      <td>61</td>\n",
       "      <td>29.070</td>\n",
       "      <td>0</td>\n",
       "      <td>29141.36030</td>\n",
       "      <td>0</td>\n",
       "      <td>1</td>\n",
       "      <td>0</td>\n",
       "      <td>1</td>\n",
       "      <td>0</td>\n",
       "      <td>0</td>\n",
       "    </tr>\n",
       "  </tbody>\n",
       "</table>\n",
       "<p>1338 rows × 10 columns</p>\n",
       "</div>"
      ],
      "text/plain": [
       "      age     bmi  children      charges  sex  smoker  northeast  northwest  \\\n",
       "0      19  27.900         0  16884.92400    0       1          0          0   \n",
       "1      18  33.770         1   1725.55230    1       0          0          0   \n",
       "2      28  33.000         3   4449.46200    1       0          0          0   \n",
       "3      33  22.705         0  21984.47061    1       0          0          1   \n",
       "4      32  28.880         0   3866.85520    1       0          0          1   \n",
       "...   ...     ...       ...          ...  ...     ...        ...        ...   \n",
       "1333   50  30.970         3  10600.54830    1       0          0          1   \n",
       "1334   18  31.920         0   2205.98080    0       0          1          0   \n",
       "1335   18  36.850         0   1629.83350    0       0          0          0   \n",
       "1336   21  25.800         0   2007.94500    0       0          0          0   \n",
       "1337   61  29.070         0  29141.36030    0       1          0          1   \n",
       "\n",
       "      southeast  southwest  \n",
       "0             0          1  \n",
       "1             1          0  \n",
       "2             1          0  \n",
       "3             0          0  \n",
       "4             0          0  \n",
       "...         ...        ...  \n",
       "1333          0          0  \n",
       "1334          0          0  \n",
       "1335          1          0  \n",
       "1336          0          1  \n",
       "1337          0          0  \n",
       "\n",
       "[1338 rows x 10 columns]"
      ]
     },
     "execution_count": 50,
     "metadata": {},
     "output_type": "execute_result"
    }
   ],
   "source": [
    "df"
   ]
  },
  {
   "cell_type": "code",
   "execution_count": 51,
   "id": "1d024d9e",
   "metadata": {},
   "outputs": [
    {
     "data": {
      "text/html": [
       "<div>\n",
       "<style scoped>\n",
       "    .dataframe tbody tr th:only-of-type {\n",
       "        vertical-align: middle;\n",
       "    }\n",
       "\n",
       "    .dataframe tbody tr th {\n",
       "        vertical-align: top;\n",
       "    }\n",
       "\n",
       "    .dataframe thead th {\n",
       "        text-align: right;\n",
       "    }\n",
       "</style>\n",
       "<table border=\"1\" class=\"dataframe\">\n",
       "  <thead>\n",
       "    <tr style=\"text-align: right;\">\n",
       "      <th></th>\n",
       "      <th>age</th>\n",
       "      <th>bmi</th>\n",
       "      <th>children</th>\n",
       "      <th>charges</th>\n",
       "      <th>sex</th>\n",
       "      <th>smoker</th>\n",
       "      <th>northeast</th>\n",
       "      <th>northwest</th>\n",
       "      <th>southeast</th>\n",
       "      <th>southwest</th>\n",
       "    </tr>\n",
       "  </thead>\n",
       "  <tbody>\n",
       "    <tr>\n",
       "      <th>age</th>\n",
       "      <td>1.000000</td>\n",
       "      <td>0.109272</td>\n",
       "      <td>0.042469</td>\n",
       "      <td>0.299008</td>\n",
       "      <td>-0.020856</td>\n",
       "      <td>-0.025019</td>\n",
       "      <td>0.002475</td>\n",
       "      <td>-0.000407</td>\n",
       "      <td>-0.011642</td>\n",
       "      <td>0.010016</td>\n",
       "    </tr>\n",
       "    <tr>\n",
       "      <th>bmi</th>\n",
       "      <td>0.109272</td>\n",
       "      <td>1.000000</td>\n",
       "      <td>0.012759</td>\n",
       "      <td>0.198341</td>\n",
       "      <td>0.046371</td>\n",
       "      <td>0.003750</td>\n",
       "      <td>-0.138156</td>\n",
       "      <td>-0.135996</td>\n",
       "      <td>0.270025</td>\n",
       "      <td>-0.006205</td>\n",
       "    </tr>\n",
       "    <tr>\n",
       "      <th>children</th>\n",
       "      <td>0.042469</td>\n",
       "      <td>0.012759</td>\n",
       "      <td>1.000000</td>\n",
       "      <td>0.067998</td>\n",
       "      <td>0.017163</td>\n",
       "      <td>0.007673</td>\n",
       "      <td>-0.022808</td>\n",
       "      <td>0.024806</td>\n",
       "      <td>-0.023066</td>\n",
       "      <td>0.021914</td>\n",
       "    </tr>\n",
       "    <tr>\n",
       "      <th>charges</th>\n",
       "      <td>0.299008</td>\n",
       "      <td>0.198341</td>\n",
       "      <td>0.067998</td>\n",
       "      <td>1.000000</td>\n",
       "      <td>0.057292</td>\n",
       "      <td>0.787251</td>\n",
       "      <td>0.006349</td>\n",
       "      <td>-0.039905</td>\n",
       "      <td>0.073982</td>\n",
       "      <td>-0.043210</td>\n",
       "    </tr>\n",
       "    <tr>\n",
       "      <th>sex</th>\n",
       "      <td>-0.020856</td>\n",
       "      <td>0.046371</td>\n",
       "      <td>0.017163</td>\n",
       "      <td>0.057292</td>\n",
       "      <td>1.000000</td>\n",
       "      <td>0.076185</td>\n",
       "      <td>-0.002425</td>\n",
       "      <td>-0.011156</td>\n",
       "      <td>0.017117</td>\n",
       "      <td>-0.004184</td>\n",
       "    </tr>\n",
       "    <tr>\n",
       "      <th>smoker</th>\n",
       "      <td>-0.025019</td>\n",
       "      <td>0.003750</td>\n",
       "      <td>0.007673</td>\n",
       "      <td>0.787251</td>\n",
       "      <td>0.076185</td>\n",
       "      <td>1.000000</td>\n",
       "      <td>0.002811</td>\n",
       "      <td>-0.036945</td>\n",
       "      <td>0.068498</td>\n",
       "      <td>-0.036945</td>\n",
       "    </tr>\n",
       "    <tr>\n",
       "      <th>northeast</th>\n",
       "      <td>0.002475</td>\n",
       "      <td>-0.138156</td>\n",
       "      <td>-0.022808</td>\n",
       "      <td>0.006349</td>\n",
       "      <td>-0.002425</td>\n",
       "      <td>0.002811</td>\n",
       "      <td>1.000000</td>\n",
       "      <td>-0.320177</td>\n",
       "      <td>-0.345561</td>\n",
       "      <td>-0.320177</td>\n",
       "    </tr>\n",
       "    <tr>\n",
       "      <th>northwest</th>\n",
       "      <td>-0.000407</td>\n",
       "      <td>-0.135996</td>\n",
       "      <td>0.024806</td>\n",
       "      <td>-0.039905</td>\n",
       "      <td>-0.011156</td>\n",
       "      <td>-0.036945</td>\n",
       "      <td>-0.320177</td>\n",
       "      <td>1.000000</td>\n",
       "      <td>-0.346265</td>\n",
       "      <td>-0.320829</td>\n",
       "    </tr>\n",
       "    <tr>\n",
       "      <th>southeast</th>\n",
       "      <td>-0.011642</td>\n",
       "      <td>0.270025</td>\n",
       "      <td>-0.023066</td>\n",
       "      <td>0.073982</td>\n",
       "      <td>0.017117</td>\n",
       "      <td>0.068498</td>\n",
       "      <td>-0.345561</td>\n",
       "      <td>-0.346265</td>\n",
       "      <td>1.000000</td>\n",
       "      <td>-0.346265</td>\n",
       "    </tr>\n",
       "    <tr>\n",
       "      <th>southwest</th>\n",
       "      <td>0.010016</td>\n",
       "      <td>-0.006205</td>\n",
       "      <td>0.021914</td>\n",
       "      <td>-0.043210</td>\n",
       "      <td>-0.004184</td>\n",
       "      <td>-0.036945</td>\n",
       "      <td>-0.320177</td>\n",
       "      <td>-0.320829</td>\n",
       "      <td>-0.346265</td>\n",
       "      <td>1.000000</td>\n",
       "    </tr>\n",
       "  </tbody>\n",
       "</table>\n",
       "</div>"
      ],
      "text/plain": [
       "                age       bmi  children   charges       sex    smoker  \\\n",
       "age        1.000000  0.109272  0.042469  0.299008 -0.020856 -0.025019   \n",
       "bmi        0.109272  1.000000  0.012759  0.198341  0.046371  0.003750   \n",
       "children   0.042469  0.012759  1.000000  0.067998  0.017163  0.007673   \n",
       "charges    0.299008  0.198341  0.067998  1.000000  0.057292  0.787251   \n",
       "sex       -0.020856  0.046371  0.017163  0.057292  1.000000  0.076185   \n",
       "smoker    -0.025019  0.003750  0.007673  0.787251  0.076185  1.000000   \n",
       "northeast  0.002475 -0.138156 -0.022808  0.006349 -0.002425  0.002811   \n",
       "northwest -0.000407 -0.135996  0.024806 -0.039905 -0.011156 -0.036945   \n",
       "southeast -0.011642  0.270025 -0.023066  0.073982  0.017117  0.068498   \n",
       "southwest  0.010016 -0.006205  0.021914 -0.043210 -0.004184 -0.036945   \n",
       "\n",
       "           northeast  northwest  southeast  southwest  \n",
       "age         0.002475  -0.000407  -0.011642   0.010016  \n",
       "bmi        -0.138156  -0.135996   0.270025  -0.006205  \n",
       "children   -0.022808   0.024806  -0.023066   0.021914  \n",
       "charges     0.006349  -0.039905   0.073982  -0.043210  \n",
       "sex        -0.002425  -0.011156   0.017117  -0.004184  \n",
       "smoker      0.002811  -0.036945   0.068498  -0.036945  \n",
       "northeast   1.000000  -0.320177  -0.345561  -0.320177  \n",
       "northwest  -0.320177   1.000000  -0.346265  -0.320829  \n",
       "southeast  -0.345561  -0.346265   1.000000  -0.346265  \n",
       "southwest  -0.320177  -0.320829  -0.346265   1.000000  "
      ]
     },
     "execution_count": 51,
     "metadata": {},
     "output_type": "execute_result"
    }
   ],
   "source": [
    "df.corr()"
   ]
  },
  {
   "cell_type": "markdown",
   "id": "1cc97f3c",
   "metadata": {},
   "source": [
    "Los que tienen más peso son age, bmi, smoker"
   ]
  },
  {
   "cell_type": "code",
   "execution_count": 52,
   "id": "c18d8463",
   "metadata": {},
   "outputs": [
    {
     "data": {
      "image/png": "[encoded data removed]",
      "text/plain": [
       "<Figure size 720x720 with 2 Axes>"
      ]
     },
     "metadata": {
      "needs_background": "light"
     },
     "output_type": "display_data"
    }
   ],
   "source": [
    "plt.figure(figsize=(10,10))\n",
    "sns.heatmap(df.corr(), annot=True)\n",
    "plt.show()"
   ]
  },
  {
   "cell_type": "code",
   "execution_count": 65,
   "id": "d4c125d0",
   "metadata": {},
   "outputs": [],
   "source": [
    "## Limpieza de datos"
   ]
  },
  {
   "cell_type": "code",
   "execution_count": 53,
   "id": "132de7a9",
   "metadata": {},
   "outputs": [],
   "source": [
    "X = df[['age', 'bmi', 'smoker']]\n",
    "Y = df[['charges']]"
   ]
  },
  {
   "cell_type": "code",
   "execution_count": 54,
   "id": "71554c03",
   "metadata": {},
   "outputs": [
    {
     "data": {
      "text/html": [
       "<div>\n",
       "<style scoped>\n",
       "    .dataframe tbody tr th:only-of-type {\n",
       "        vertical-align: middle;\n",
       "    }\n",
       "\n",
       "    .dataframe tbody tr th {\n",
       "        vertical-align: top;\n",
       "    }\n",
       "\n",
       "    .dataframe thead th {\n",
       "        text-align: right;\n",
       "    }\n",
       "</style>\n",
       "<table border=\"1\" class=\"dataframe\">\n",
       "  <thead>\n",
       "    <tr style=\"text-align: right;\">\n",
       "      <th></th>\n",
       "      <th>age</th>\n",
       "      <th>bmi</th>\n",
       "      <th>smoker</th>\n",
       "    </tr>\n",
       "  </thead>\n",
       "  <tbody>\n",
       "    <tr>\n",
       "      <th>0</th>\n",
       "      <td>19</td>\n",
       "      <td>27.900</td>\n",
       "      <td>1</td>\n",
       "    </tr>\n",
       "    <tr>\n",
       "      <th>1</th>\n",
       "      <td>18</td>\n",
       "      <td>33.770</td>\n",
       "      <td>0</td>\n",
       "    </tr>\n",
       "    <tr>\n",
       "      <th>2</th>\n",
       "      <td>28</td>\n",
       "      <td>33.000</td>\n",
       "      <td>0</td>\n",
       "    </tr>\n",
       "    <tr>\n",
       "      <th>3</th>\n",
       "      <td>33</td>\n",
       "      <td>22.705</td>\n",
       "      <td>0</td>\n",
       "    </tr>\n",
       "    <tr>\n",
       "      <th>4</th>\n",
       "      <td>32</td>\n",
       "      <td>28.880</td>\n",
       "      <td>0</td>\n",
       "    </tr>\n",
       "    <tr>\n",
       "      <th>...</th>\n",
       "      <td>...</td>\n",
       "      <td>...</td>\n",
       "      <td>...</td>\n",
       "    </tr>\n",
       "    <tr>\n",
       "      <th>1333</th>\n",
       "      <td>50</td>\n",
       "      <td>30.970</td>\n",
       "      <td>0</td>\n",
       "    </tr>\n",
       "    <tr>\n",
       "      <th>1334</th>\n",
       "      <td>18</td>\n",
       "      <td>31.920</td>\n",
       "      <td>0</td>\n",
       "    </tr>\n",
       "    <tr>\n",
       "      <th>1335</th>\n",
       "      <td>18</td>\n",
       "      <td>36.850</td>\n",
       "      <td>0</td>\n",
       "    </tr>\n",
       "    <tr>\n",
       "      <th>1336</th>\n",
       "      <td>21</td>\n",
       "      <td>25.800</td>\n",
       "      <td>0</td>\n",
       "    </tr>\n",
       "    <tr>\n",
       "      <th>1337</th>\n",
       "      <td>61</td>\n",
       "      <td>29.070</td>\n",
       "      <td>1</td>\n",
       "    </tr>\n",
       "  </tbody>\n",
       "</table>\n",
       "<p>1338 rows × 3 columns</p>\n",
       "</div>"
      ],
      "text/plain": [
       "      age     bmi  smoker\n",
       "0      19  27.900       1\n",
       "1      18  33.770       0\n",
       "2      28  33.000       0\n",
       "3      33  22.705       0\n",
       "4      32  28.880       0\n",
       "...   ...     ...     ...\n",
       "1333   50  30.970       0\n",
       "1334   18  31.920       0\n",
       "1335   18  36.850       0\n",
       "1336   21  25.800       0\n",
       "1337   61  29.070       1\n",
       "\n",
       "[1338 rows x 3 columns]"
      ]
     },
     "execution_count": 54,
     "metadata": {},
     "output_type": "execute_result"
    }
   ],
   "source": [
    "X"
   ]
  },
  {
   "cell_type": "code",
   "execution_count": null,
   "id": "5fc359cc",
   "metadata": {},
   "outputs": [],
   "source": []
  },
  {
   "cell_type": "code",
   "execution_count": 55,
   "id": "e6a0daa7",
   "metadata": {},
   "outputs": [
    {
     "data": {
      "text/html": [
       "<div>\n",
       "<style scoped>\n",
       "    .dataframe tbody tr th:only-of-type {\n",
       "        vertical-align: middle;\n",
       "    }\n",
       "\n",
       "    .dataframe tbody tr th {\n",
       "        vertical-align: top;\n",
       "    }\n",
       "\n",
       "    .dataframe thead th {\n",
       "        text-align: right;\n",
       "    }\n",
       "</style>\n",
       "<table border=\"1\" class=\"dataframe\">\n",
       "  <thead>\n",
       "    <tr style=\"text-align: right;\">\n",
       "      <th></th>\n",
       "      <th>charges</th>\n",
       "    </tr>\n",
       "  </thead>\n",
       "  <tbody>\n",
       "    <tr>\n",
       "      <th>0</th>\n",
       "      <td>16884.92400</td>\n",
       "    </tr>\n",
       "    <tr>\n",
       "      <th>1</th>\n",
       "      <td>1725.55230</td>\n",
       "    </tr>\n",
       "    <tr>\n",
       "      <th>2</th>\n",
       "      <td>4449.46200</td>\n",
       "    </tr>\n",
       "    <tr>\n",
       "      <th>3</th>\n",
       "      <td>21984.47061</td>\n",
       "    </tr>\n",
       "    <tr>\n",
       "      <th>4</th>\n",
       "      <td>3866.85520</td>\n",
       "    </tr>\n",
       "    <tr>\n",
       "      <th>...</th>\n",
       "      <td>...</td>\n",
       "    </tr>\n",
       "    <tr>\n",
       "      <th>1333</th>\n",
       "      <td>10600.54830</td>\n",
       "    </tr>\n",
       "    <tr>\n",
       "      <th>1334</th>\n",
       "      <td>2205.98080</td>\n",
       "    </tr>\n",
       "    <tr>\n",
       "      <th>1335</th>\n",
       "      <td>1629.83350</td>\n",
       "    </tr>\n",
       "    <tr>\n",
       "      <th>1336</th>\n",
       "      <td>2007.94500</td>\n",
       "    </tr>\n",
       "    <tr>\n",
       "      <th>1337</th>\n",
       "      <td>29141.36030</td>\n",
       "    </tr>\n",
       "  </tbody>\n",
       "</table>\n",
       "<p>1338 rows × 1 columns</p>\n",
       "</div>"
      ],
      "text/plain": [
       "          charges\n",
       "0     16884.92400\n",
       "1      1725.55230\n",
       "2      4449.46200\n",
       "3     21984.47061\n",
       "4      3866.85520\n",
       "...           ...\n",
       "1333  10600.54830\n",
       "1334   2205.98080\n",
       "1335   1629.83350\n",
       "1336   2007.94500\n",
       "1337  29141.36030\n",
       "\n",
       "[1338 rows x 1 columns]"
      ]
     },
     "execution_count": 55,
     "metadata": {},
     "output_type": "execute_result"
    }
   ],
   "source": [
    "Y"
   ]
  },
  {
   "cell_type": "code",
   "execution_count": 57,
   "id": "18d4f76a",
   "metadata": {},
   "outputs": [],
   "source": [
    "percent = 20\n",
    "indices_test, indices_train, theta, Y_predict = normal_equation(X, Y, percent)"
   ]
  },
  {
   "cell_type": "code",
   "execution_count": 58,
   "id": "45174a82",
   "metadata": {
    "scrolled": true
   },
   "outputs": [
    {
     "name": "stdout",
     "output_type": "stream",
     "text": [
      "Numero de datos utilizados para el test: 268\n",
      "Numero de datos utilizados para el entrenamiento: 1070\n"
     ]
    }
   ],
   "source": [
    "print(f'Numero de datos utilizados para el test: {len(indices_test)}')\n",
    "print(f'Numero de datos utilizados para el entrenamiento: {len(indices_train)}')"
   ]
  },
  {
   "cell_type": "code",
   "execution_count": 59,
   "id": "7cbccd6f",
   "metadata": {
    "scrolled": true
   },
   "outputs": [
    {
     "data": {
      "text/plain": [
       "array([[26038.38335984],\n",
       "       [ 4552.57466008],\n",
       "       [12176.47411691],\n",
       "       [ 3139.99363093],\n",
       "       [31287.74328779],\n",
       "       [15044.83543349],\n",
       "       [ 5403.34812283],\n",
       "       [11745.35177301],\n",
       "       [33662.28281667],\n",
       "       [ 7879.24696877],\n",
       "       [ 9153.77581593],\n",
       "       [ 3831.47459934],\n",
       "       [10347.50466286],\n",
       "       [14100.23986205],\n",
       "       [11242.85801844],\n",
       "       [38936.44825958],\n",
       "       [14961.69961087],\n",
       "       [37697.01408309],\n",
       "       [ 4753.08040982],\n",
       "       [ 7788.37537259],\n",
       "       [13083.14744321],\n",
       "       [19294.68343063],\n",
       "       [  494.80632185],\n",
       "       [ 2737.87568925],\n",
       "       [12133.56804552],\n",
       "       [ 2675.34649434],\n",
       "       [ 4162.76019329],\n",
       "       [ 2010.8082981 ],\n",
       "       [ 4245.23401494],\n",
       "       [29109.09449647],\n",
       "       [33959.87336905],\n",
       "       [31428.76497683],\n",
       "       [31630.99185887],\n",
       "       [ 3414.05535941],\n",
       "       [ 5223.08018672],\n",
       "       [11711.70404229],\n",
       "       [ 9518.90770577],\n",
       "       [12559.63093602],\n",
       "       [ 4619.42568028],\n",
       "       [ 6125.43168774],\n",
       "       [ 4009.60527823],\n",
       "       [ 9158.41914442],\n",
       "       [ 3507.84915179],\n",
       "       [11582.4467652 ],\n",
       "       [12099.01243781],\n",
       "       [30173.85925321],\n",
       "       [14923.19099193],\n",
       "       [ 9915.35150394],\n",
       "       [ 6479.58410462],\n",
       "       [ 8648.55843034],\n",
       "       [-1201.58652854],\n",
       "       [29666.01285833],\n",
       "       [37503.09035386],\n",
       "       [11981.56688352],\n",
       "       [ 5093.69997161],\n",
       "       [38970.88092928],\n",
       "       [11127.22821816],\n",
       "       [11442.33295316],\n",
       "       [29018.39314917],\n",
       "       [14071.97308795],\n",
       "       [10090.38973776],\n",
       "       [ -275.16714069],\n",
       "       [13872.86696729],\n",
       "       [ 4917.75386078],\n",
       "       [13024.94007357],\n",
       "       [10035.84219245],\n",
       "       [33197.21955515],\n",
       "       [34976.42672495],\n",
       "       [10978.10194149],\n",
       "       [ 3332.39479305],\n",
       "       [16557.17758542],\n",
       "       [ 7237.00821622],\n",
       "       [11161.36770095],\n",
       "       [23997.95699939],\n",
       "       [13255.43372971],\n",
       "       [ 4171.11065696],\n",
       "       [11391.78572993],\n",
       "       [ 4191.34847059],\n",
       "       [12255.628612  ],\n",
       "       [ 5258.66660947],\n",
       "       [10879.98632383],\n",
       "       [11110.47997996],\n",
       "       [ 3672.64554077],\n",
       "       [14209.33495268],\n",
       "       [ 4605.47670026],\n",
       "       [ 6226.17631469],\n",
       "       [ 2376.47925089],\n",
       "       [17607.132796  ],\n",
       "       [37252.97357419],\n",
       "       [39651.87417681],\n",
       "       [33139.67418648],\n",
       "       [ 4578.16511402],\n",
       "       [ 5039.15242629],\n",
       "       [ 4464.74819811],\n",
       "       [31545.96465508],\n",
       "       [ 8178.72890232],\n",
       "       [ 3760.96375482],\n",
       "       [12848.1333966 ],\n",
       "       [ 1225.53353732],\n",
       "       [13755.66728905],\n",
       "       [ 4702.97762781],\n",
       "       [13137.74229938],\n",
       "       [17096.78032984],\n",
       "       [ 4043.00713291],\n",
       "       [ 8695.12432605],\n",
       "       [ 4822.7306882 ],\n",
       "       [ 7330.67907058],\n",
       "       [10330.80373553],\n",
       "       [ 9562.22990208],\n",
       "       [ 9407.06066783],\n",
       "       [12157.51299434],\n",
       "       [ 3664.2950771 ],\n",
       "       [12044.09607843],\n",
       "       [17470.97199518],\n",
       "       [11238.78206919],\n",
       "       [ 3128.84390909],\n",
       "       [ 4633.3746603 ],\n",
       "       [ 5072.06252888],\n",
       "       [ 2976.350995  ],\n",
       "       [11291.48554419],\n",
       "       [32534.66736181],\n",
       "       [ 3007.61559245],\n",
       "       [ -247.19355349],\n",
       "       [ 7809.39812521],\n",
       "       [ 5566.25313064],\n",
       "       [10951.72654856],\n",
       "       [17570.93168315],\n",
       "       [12539.02430832],\n",
       "       [ 9935.34344153],\n",
       "       [10578.66031996],\n",
       "       [13720.74286727],\n",
       "       [ 1006.68135511],\n",
       "       [ 9665.65084919],\n",
       "       [13703.0111249 ],\n",
       "       [ 5492.82008992],\n",
       "       [14839.19460317],\n",
       "       [14995.10146554],\n",
       "       [ 6723.11886377],\n",
       "       [ 3756.19748831],\n",
       "       [ 6209.47538736],\n",
       "       [14506.01762805],\n",
       "       [ 9843.93278241],\n",
       "       [ 2693.3997399 ],\n",
       "       [13724.40269159],\n",
       "       [ 4939.68449041],\n",
       "       [10235.07125112],\n",
       "       [ 6520.89198173],\n",
       "       [11676.24055757],\n",
       "       [13384.81394483],\n",
       "       [14154.1254064 ],\n",
       "       [ 4590.59152693],\n",
       "       [ 4155.14735775],\n",
       "       [12236.00548847],\n",
       "       [31157.13369246],\n",
       "       [36980.23584763],\n",
       "       [  100.00802881],\n",
       "       [12117.28324311],\n",
       "       [ 5179.51211438],\n",
       "       [ 5679.08367275],\n",
       "       [ 5106.0034465 ],\n",
       "       [ 5571.80433614],\n",
       "       [ 9954.35187496],\n",
       "       [12845.99613939],\n",
       "       [ 5711.01027117],\n",
       "       [ 6244.64568518],\n",
       "       [15834.43201955],\n",
       "       [14042.72280968],\n",
       "       [32634.4568009 ],\n",
       "       [12068.70302821],\n",
       "       [ 2705.94909083],\n",
       "       [ 3555.69173856],\n",
       "       [ 2923.57189283],\n",
       "       [30529.41129918],\n",
       "       [10798.61894436],\n",
       "       [31697.84287907],\n",
       "       [ 9656.34519766],\n",
       "       [26368.22201384],\n",
       "       [12134.96767461],\n",
       "       [ 9675.84538317],\n",
       "       [ 8277.45921008],\n",
       "       [ 2508.11966124],\n",
       "       [ 3241.76907291],\n",
       "       [ 7360.54403895],\n",
       "       [37425.92186166],\n",
       "       [ 6725.18049382],\n",
       "       [13954.89634772],\n",
       "       [ 6947.39931345],\n",
       "       [  350.12480848],\n",
       "       [28355.20727117],\n",
       "       [ 3042.54001423],\n",
       "       [15122.17417457],\n",
       "       [ 6857.75709748],\n",
       "       [10085.79372013],\n",
       "       [11363.39601781],\n",
       "       [ 9270.19055519],\n",
       "       [11542.09407595],\n",
       "       [ 9246.90760734],\n",
       "       [ 9470.32749088],\n",
       "       [ 6269.00675892],\n",
       "       [12908.52533431],\n",
       "       [ 3113.05085876],\n",
       "       [ 7217.50803071],\n",
       "       [28926.85955203],\n",
       "       [ 6000.3732979 ],\n",
       "       [ 2733.55386397],\n",
       "       [10445.94178373],\n",
       "       [ 4218.95324373],\n",
       "       [ 4850.82721342],\n",
       "       [ 3342.22051297],\n",
       "       [37864.11797816],\n",
       "       [ 9671.27768184],\n",
       "       [33698.11511545],\n",
       "       [ 3230.12759898],\n",
       "       [31267.45816329],\n",
       "       [ 2100.28026519],\n",
       "       [11461.71020065],\n",
       "       [ 7473.46920277],\n",
       "       [ 6800.94935693],\n",
       "       [14231.95589957],\n",
       "       [ 2995.97411853],\n",
       "       [ 7459.27434671],\n",
       "       [12383.07013509],\n",
       "       [32954.71561103],\n",
       "       [29395.95145193],\n",
       "       [37886.90917393],\n",
       "       [12711.63209802],\n",
       "       [12203.833014  ],\n",
       "       [ 7661.30266357],\n",
       "       [ 7612.50488893],\n",
       "       [ 9759.88908279],\n",
       "       [ 8818.70745964],\n",
       "       [12364.72370262],\n",
       "       [ 9439.38439662],\n",
       "       [15154.59252507],\n",
       "       [ 8598.74883524],\n",
       "       [16173.03726215],\n",
       "       [ 6125.43168774],\n",
       "       [ 7454.70664539],\n",
       "       [ 4097.55467822],\n",
       "       [ 7499.74997398],\n",
       "       [28842.44703835],\n",
       "       [15620.39341471],\n",
       "       [35310.83308028],\n",
       "       [ 3041.87801327],\n",
       "       [11196.83118567],\n",
       "       [11586.10658952],\n",
       "       [ 8375.99095267],\n",
       "       [ 6192.77446002],\n",
       "       [ 3293.39442203],\n",
       "       [ 6280.60092198],\n",
       "       [11433.78392431],\n",
       "       [11199.95194705],\n",
       "       [14775.75753125],\n",
       "       [ 9206.99935931],\n",
       "       [ 9062.73397087],\n",
       "       [11767.03652659],\n",
       "       [ 8796.40801595],\n",
       "       [ 6215.02659285],\n",
       "       [27594.24627326],\n",
       "       [31939.97800913],\n",
       "       [39796.6786282 ],\n",
       "       [ 4479.3874954 ],\n",
       "       [ 8480.59396913],\n",
       "       [ 5640.49942665],\n",
       "       [ 5390.38264698],\n",
       "       [ 6305.03762288],\n",
       "       [36897.42152822],\n",
       "       [ 1954.73818568]])"
      ]
     },
     "execution_count": 59,
     "metadata": {},
     "output_type": "execute_result"
    }
   ],
   "source": [
    "Y_predict"
   ]
  },
  {
   "cell_type": "code",
   "execution_count": 61,
   "id": "cdbb483d",
   "metadata": {},
   "outputs": [
    {
     "data": {
      "text/html": [
       "<div>\n",
       "<style scoped>\n",
       "    .dataframe tbody tr th:only-of-type {\n",
       "        vertical-align: middle;\n",
       "    }\n",
       "\n",
       "    .dataframe tbody tr th {\n",
       "        vertical-align: top;\n",
       "    }\n",
       "\n",
       "    .dataframe thead th {\n",
       "        text-align: right;\n",
       "    }\n",
       "</style>\n",
       "<table border=\"1\" class=\"dataframe\">\n",
       "  <thead>\n",
       "    <tr style=\"text-align: right;\">\n",
       "      <th></th>\n",
       "      <th>charges</th>\n",
       "    </tr>\n",
       "  </thead>\n",
       "  <tbody>\n",
       "    <tr>\n",
       "      <th>0</th>\n",
       "      <td>16884.92400</td>\n",
       "    </tr>\n",
       "    <tr>\n",
       "      <th>5</th>\n",
       "      <td>3756.62160</td>\n",
       "    </tr>\n",
       "    <tr>\n",
       "      <th>9</th>\n",
       "      <td>28923.13692</td>\n",
       "    </tr>\n",
       "    <tr>\n",
       "      <th>10</th>\n",
       "      <td>2721.32080</td>\n",
       "    </tr>\n",
       "    <tr>\n",
       "      <th>23</th>\n",
       "      <td>37701.87680</td>\n",
       "    </tr>\n",
       "    <tr>\n",
       "      <th>...</th>\n",
       "      <td>...</td>\n",
       "    </tr>\n",
       "    <tr>\n",
       "      <th>1298</th>\n",
       "      <td>5261.46945</td>\n",
       "    </tr>\n",
       "    <tr>\n",
       "      <th>1311</th>\n",
       "      <td>4571.41305</td>\n",
       "    </tr>\n",
       "    <tr>\n",
       "      <th>1320</th>\n",
       "      <td>5425.02335</td>\n",
       "    </tr>\n",
       "    <tr>\n",
       "      <th>1321</th>\n",
       "      <td>28101.33305</td>\n",
       "    </tr>\n",
       "    <tr>\n",
       "      <th>1336</th>\n",
       "      <td>2007.94500</td>\n",
       "    </tr>\n",
       "  </tbody>\n",
       "</table>\n",
       "<p>268 rows × 1 columns</p>\n",
       "</div>"
      ],
      "text/plain": [
       "          charges\n",
       "0     16884.92400\n",
       "5      3756.62160\n",
       "9     28923.13692\n",
       "10     2721.32080\n",
       "23    37701.87680\n",
       "...           ...\n",
       "1298   5261.46945\n",
       "1311   4571.41305\n",
       "1320   5425.02335\n",
       "1321  28101.33305\n",
       "1336   2007.94500\n",
       "\n",
       "[268 rows x 1 columns]"
      ]
     },
     "execution_count": 61,
     "metadata": {},
     "output_type": "execute_result"
    }
   ],
   "source": [
    "Y.iloc[indices_test]"
   ]
  },
  {
   "cell_type": "code",
   "execution_count": 62,
   "id": "14b7d131",
   "metadata": {},
   "outputs": [
    {
     "data": {
      "image/png": "[encoded data removed]",
      "text/plain": [
       "<Figure size 432x288 with 1 Axes>"
      ]
     },
     "metadata": {
      "needs_background": "light"
     },
     "output_type": "display_data"
    }
   ],
   "source": [
    "plt.scatter(Y_predict, Y.iloc[indices_test])\n",
    "plt.show()"
   ]
  },
  {
   "cell_type": "code",
   "execution_count": 63,
   "id": "1e2c95e3",
   "metadata": {},
   "outputs": [
    {
     "data": {
      "text/plain": [
       "array([[-12032.99160749],\n",
       "       [   261.75825359],\n",
       "       [   329.10102588],\n",
       "       [ 23916.049527  ]])"
      ]
     },
     "execution_count": 63,
     "metadata": {},
     "output_type": "execute_result"
    }
   ],
   "source": [
    "theta"
   ]
  },
  {
   "cell_type": "code",
   "execution_count": 26,
   "id": "6d30e601",
   "metadata": {},
   "outputs": [
    {
     "data": {
      "image/png": "[encoded data removed]",
      "text/plain": [
       "<Figure size 432x288 with 1 Axes>"
      ]
     },
     "metadata": {
      "needs_background": "light"
     },
     "output_type": "display_data"
    },
    {
     "data": {
      "image/png": "[encoded data removed]",
      "text/plain": [
       "<Figure size 432x288 with 1 Axes>"
      ]
     },
     "metadata": {
      "needs_background": "light"
     },
     "output_type": "display_data"
    },
    {
     "data": {
      "image/png": "[encoded data removed]",
      "text/plain": [
       "<Figure size 432x288 with 1 Axes>"
      ]
     },
     "metadata": {
      "needs_background": "light"
     },
     "output_type": "display_data"
    }
   ],
   "source": [
    "for elemento in X:\n",
    "    plt.plot(X[elemento])\n",
    "    plt.title(f'{elemento}')\n",
    "    plt.show()"
   ]
  },
  {
   "cell_type": "code",
   "execution_count": 64,
   "id": "93ebd7a1",
   "metadata": {},
   "outputs": [
    {
     "data": {
      "text/plain": [
       "[<matplotlib.lines.Line2D at 0x7f34bcb19670>]"
      ]
     },
     "execution_count": 64,
     "metadata": {},
     "output_type": "execute_result"
    },
    {
     "data": {
      "image/png": "[encoded data removed]",
      "text/plain": [
       "<Figure size 432x288 with 1 Axes>"
      ]
     },
     "metadata": {
      "needs_background": "light"
     },
     "output_type": "display_data"
    }
   ],
   "source": [
    "plt.plot(df['charges'])"
   ]
  },
  {
   "cell_type": "code",
   "execution_count": null,
   "id": "a1e5166f",
   "metadata": {},
   "outputs": [],
   "source": []
  }
 ],
 "metadata": {
  "kernelspec": {
   "display_name": "Python 3 (ipykernel)",
   "language": "python",
   "name": "python3"
  },
  "language_info": {
   "codemirror_mode": {
    "name": "ipython",
    "version": 3
   },
   "file_extension": ".py",
   "mimetype": "text/x-python",
   "name": "python",
   "nbconvert_exporter": "python",
   "pygments_lexer": "ipython3",
   "version": "3.8.8"
  }
 },
 "nbformat": 4,
 "nbformat_minor": 5
}
