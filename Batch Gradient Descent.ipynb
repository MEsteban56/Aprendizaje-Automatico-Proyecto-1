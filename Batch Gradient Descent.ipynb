{
 "cells": [
  {
   "cell_type": "markdown",
   "id": "ac7921f3",
   "metadata": {},
   "source": [
    "# Batch Gradient Descent: Code & Simple Test"
   ]
  },
  {
   "cell_type": "markdown",
   "id": "72669f03",
   "metadata": {},
   "source": [
    "## Carga de librerías"
   ]
  },
  {
   "cell_type": "markdown",
   "id": "f3264381",
   "metadata": {},
   "source": [
    "Primero se cargan las librerias que serán utilizadas para el algoritmo y la prueba de este:"
   ]
  },
  {
   "cell_type": "code",
   "execution_count": 1,
   "id": "aa47063c",
   "metadata": {},
   "outputs": [],
   "source": [
    "import numpy as np\n",
    "import pandas as pd\n",
    "import matplotlib.pyplot as plt\n",
    "import random "
   ]
  },
  {
   "cell_type": "markdown",
   "id": "f7f71fb2",
   "metadata": {},
   "source": [
    "## Batch Gradient Descent Function "
   ]
  },
  {
   "cell_type": "markdown",
   "id": "b38ebbfb",
   "metadata": {},
   "source": [
    "Posteriormente se crea el código del algoritmo, para ello se parte de la función utilizada para optimizar $\\theta\\$:\n",
    "\n",
    "### $$\\hat\\theta_j := \\theta - \\eta \\frac{\\delta}{\\delta\\theta_j}J(\\theta)$$\n",
    "\n",
    "La función creada toma por nombre ``batch_gradient_descent()``, y su descripción se encuentra dentro de la misma, el resultado final de esta se encuentra en el archivo **\"multivariate_linear_regression.py\"** , desde el cual será llamada para su aplicación. \n",
    "\n",
    "Los argumentos de la función **X** y **Y** son DataFrames de Pandas, pues facilita la separación de los datos en training y test mediante la funión ``df.iloc[]``."
   ]
  },
  {
   "cell_type": "code",
   "execution_count": 2,
   "id": "59649f56",
   "metadata": {},
   "outputs": [],
   "source": [
    "def batch_gradient_descent(X, Y, eta, epochs, percent):\n",
    "    '''Esta funcion se utiliza para implimentar el método de regresión lineal Batch Gradiente Descent\n",
    "    batch_gradient_descent(X, Y, eta, epocs) donde:\n",
    "    X: DataFrame de instancias o features\n",
    "    Y: DataFrame de targets\n",
    "    eta: tasa de aprendizaje (learning rate)\n",
    "    epochs: numero máximo de iteraciones\n",
    "    percent: % de datos que seran utilizados para el test (base 100)\n",
    "    \n",
    "    ------------------------------------\n",
    "    Return:\n",
    "    In order: theta, test_index, train_index, Y_predict, J_log\n",
    "    \n",
    "    theta: valores correspondientes a theta_n\n",
    "    test_index: data test index\n",
    "    train_index: data training index\n",
    "    Y_predict: Y predict values\n",
    "    J_log: errores por numero de epoca\n",
    "    '''\n",
    "    # Se importan internamente las librerías necesarias para ser utilizada \n",
    "    import numpy as np\n",
    "    import pandas as pd\n",
    "    import random as random\n",
    "    \n",
    "    # Se establecen aleatoriamente los indicds que serán utilizados para el entrenamiento y el test\n",
    "    m = len(X)\n",
    "    test_index = list(pd.Series(random.sample(list(np.arange(0, m)), round(m * percent / 100))).sort_values())\n",
    "    train_index = list(np.arange(0, m))\n",
    "    \n",
    "    # Se retiran los índices seleccionados para el test\n",
    "    for element in test_index:\n",
    "        train_index.remove(element)\n",
    "        \n",
    "    # Se definen los arreglos para el test y el entrenamiento\n",
    "    X_train = np.c_[X.iloc[train_index]]\n",
    "    X_test = np.c_[X.iloc[test_index]]\n",
    "    Y_train = np.c_[Y.iloc[train_index]]\n",
    "    Y_test = np.c_[Y.iloc[test_index]]\n",
    "    \n",
    "    # Entrenamiento\n",
    "    \n",
    "    theta = np.random.randn((X.shape[1] + 1), 1)\n",
    "    \n",
    "    J_log = np.zeros(epochs)\n",
    "    \n",
    "    m = len(X_train)\n",
    "    \n",
    "    X_b = np.c_[np.ones((m, 1)), X_train]\n",
    "\n",
    "    for i in range(epochs):\n",
    "        J_log[i] = (2 / m) * ((X_b@theta - Y_train)**2).sum()\n",
    "        gradients = (1 / m) * (X_b.T @ (X_b @ theta - Y_train)) \n",
    "        theta = theta - eta * gradients\n",
    "    \n",
    "    # Test\n",
    "    \n",
    "    m = len(X_test)\n",
    "    \n",
    "    X_b_test = np.c_[np.ones((m, 1)), X_test]\n",
    "    Y_predict = X_b_test @ theta\n",
    "    \n",
    "    return theta, test_index, train_index, Y_predict, J_log"
   ]
  },
  {
   "cell_type": "markdown",
   "id": "a8c98775",
   "metadata": {},
   "source": [
    "### Prueba del algoritmo "
   ]
  },
  {
   "cell_type": "markdown",
   "id": "e86d11cd",
   "metadata": {},
   "source": [
    "Para la prueba primero se crean las variables **x** y **y**, **x** es generada de manera aleatoria, y **y** a través de la función $y = 3 + 4x + c$, donde **c** es un número aleatorio que hace posible la generación de una nube de puntos al rededor de la recta."
   ]
  },
  {
   "cell_type": "code",
   "execution_count": 3,
   "id": "eb99f346",
   "metadata": {},
   "outputs": [],
   "source": [
    "m = 300\n",
    "x = 2 * np.random.rand(m, 1)\n",
    "y = 3 + 4*x + 1.5*np.random.randn(m, 1)"
   ]
  },
  {
   "cell_type": "code",
   "execution_count": 5,
   "id": "6f31275e",
   "metadata": {},
   "outputs": [],
   "source": [
    "X = pd.DataFrame(x)\n",
    "Y = pd.DataFrame(y)\n",
    "eta = 0.005 # Bug: si se utilizan valores de eta grandes (como 0.1, 0.05) la función deja de funcionar y comienza a arrojar valores NaN\n",
    "epochs = 1000 # hasta 1000 iteraciones\n",
    "sample = 20 # 20% de los datos son utilizados para test"
   ]
  },
  {
   "cell_type": "markdown",
   "id": "073eb257",
   "metadata": {},
   "source": [
    "Para utilizar la función deben escribirse todas las variables de salida, en caso de omitir alguna se asignaran en el mismo orden del **return**: _theta, test_index, train_index, Y_predict, J_log_."
   ]
  },
  {
   "cell_type": "code",
   "execution_count": 6,
   "id": "81502d53",
   "metadata": {},
   "outputs": [],
   "source": [
    "theta, test_index, train_index, Y_predict, J_log = batch_gradient_descent(X, Y, eta, epochs, sample)"
   ]
  },
  {
   "cell_type": "markdown",
   "id": "623b71ec",
   "metadata": {},
   "source": [
    "Graficando **J_log** para cada una de las épocas, se puede observar que con $\\eta = 0.005$, el mínimo error se obtiene al rededor de las 200 épocas. "
   ]
  },
  {
   "cell_type": "code",
   "execution_count": 7,
   "id": "5fde7aec",
   "metadata": {},
   "outputs": [
    {
     "data": {
      "image/png": "[encoded data removed]",
      "text/plain": [
       "<Figure size 432x288 with 1 Axes>"
      ]
     },
     "metadata": {
      "needs_background": "light"
     },
     "output_type": "display_data"
    }
   ],
   "source": [
    "plt.plot(np.arange(epochs), J_log, 'b-', linewidth=2)\n",
    "plt.xlabel('Epochs')\n",
    "plt.ylabel(r'$J(\\theta)$')\n",
    "plt.show()"
   ]
  },
  {
   "cell_type": "markdown",
   "id": "a1ddfc92",
   "metadata": {},
   "source": [
    "Graficando los valores reales de **y** (nube de puntos) y los valores predichos por la función ``batch_gradient_descent()``"
   ]
  },
  {
   "cell_type": "code",
   "execution_count": 8,
   "id": "922d6949",
   "metadata": {},
   "outputs": [
    {
     "data": {
      "image/png": "[encoded data removed]",
      "text/plain": [
       "<Figure size 432x288 with 1 Axes>"
      ]
     },
     "metadata": {
      "needs_background": "light"
     },
     "output_type": "display_data"
    }
   ],
   "source": [
    "plt.plot(np.c_[X], np.c_[Y], \"b.\")\n",
    "plt.plot(np.c_[X.iloc[test_index]], Y_predict, \"r-\", linewidth=2, label=\"Predictions\")\n",
    "plt.xlabel(\"$X_1$\", fontsize=14)\n",
    "plt.ylabel(\"$y$\", fontsize=14, rotation=0)\n",
    "plt.legend(loc=\"upper left\", fontsize=14)\n",
    "#plt.axis([0, 2, 0, 15])\n",
    "plt.grid(alpha= 0.3)\n",
    "plt.show()"
   ]
  },
  {
   "cell_type": "code",
   "execution_count": null,
   "id": "80056889",
   "metadata": {},
   "outputs": [],
   "source": []
  }
 ],
 "metadata": {
  "kernelspec": {
   "display_name": "Python 3 (ipykernel)",
   "language": "python",
   "name": "python3"
  },
  "language_info": {
   "codemirror_mode": {
    "name": "ipython",
    "version": 3
   },
   "file_extension": ".py",
   "mimetype": "text/x-python",
   "name": "python",
   "nbconvert_exporter": "python",
   "pygments_lexer": "ipython3",
   "version": "3.8.8"
  }
 },
 "nbformat": 4,
 "nbformat_minor": 5
}
