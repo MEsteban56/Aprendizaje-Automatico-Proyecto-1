{
 "cells": [
  {
   "cell_type": "code",
   "execution_count": 4,
   "id": "758fd79a",
   "metadata": {},
   "outputs": [],
   "source": [
    "import numpy as np\n",
    "import pandas as pd\n",
    "import matplotlib.pyplot as plt\n",
    "import seaborn as sns\n",
    "import random "
   ]
  },
  {
   "cell_type": "markdown",
   "id": "765c868a",
   "metadata": {},
   "source": [
    "# Batch Gradient Descent Function "
   ]
  },
  {
   "cell_type": "markdown",
   "id": "9742634c",
   "metadata": {},
   "source": []
  },
  {
   "cell_type": "code",
   "execution_count": 172,
   "id": "f6450858",
   "metadata": {},
   "outputs": [],
   "source": [
    "def batch_gradient_descent(X, Y, eta, epochs, percent):\n",
    "    '''Esta funcion se utiliza para implimentar el método de regresión lineal Batch Gradiente Descent\n",
    "    batch_gradient_descent(X, Y, eta, epocs) where:\n",
    "    X: DataFrame de instancias o features\n",
    "    Y: DataFrame de targets\n",
    "    eta: tasa de aprendizaje (learning rate)\n",
    "    epocs: numero máximo de iteraciones\n",
    "    percent: % de datos que seran utilizados para el test (base 100)\n",
    "    \n",
    "    ------------------------------------\n",
    "    Return:\n",
    "    In order: theta, test_index, train_index, Y_predict, J_log\n",
    "    \n",
    "    theta: valores correspondientes a theta_n\n",
    "    test_index: data test index\n",
    "    train_index: data training index\n",
    "    Y_predict: Y predict values\n",
    "    J_log: errores por numero de epoca\n",
    "    '''\n",
    "    import numpy as np\n",
    "    import pandas as pd\n",
    "    import random as random\n",
    "    \n",
    "    m = len(X)\n",
    "    test_index = list(pd.Series(random.sample(list(np.arange(0, m)), round(m * percent / 100))).sort_values())\n",
    "    train_index = list(np.arange(0, m))\n",
    "    \n",
    "    for element in test_index:\n",
    "        train_index.remove(element)\n",
    "        \n",
    "    \n",
    "    X_train = np.c_[X.iloc[train_index]]\n",
    "    X_test = np.c_[X.iloc[test_index]]\n",
    "    Y_train = np.c_[Y.iloc[train_index]]\n",
    "    Y_test = np.c_[Y.iloc[test_index]]\n",
    "    \n",
    "    # Entrenamiento\n",
    "    \n",
    "    theta = np.random.randn((X.shape[1] + 1), 1)\n",
    "    \n",
    "    J_log = np.zeros(epochs)\n",
    "    \n",
    "    m = len(X_train)\n",
    "    \n",
    "    X_b = np.c_[np.ones((m, 1)), X_train]\n",
    "\n",
    "    for i in range(epochs):\n",
    "        J_log[i] = (2 / m) * ((X_b@theta - Y_train)**2).sum()\n",
    "        gradients = (1 / m) * (X_b.T @ (X_b @ theta - Y_train)) \n",
    "        theta = theta - eta * gradients\n",
    "    \n",
    "    # Test\n",
    "    \n",
    "    m = len(X_test)\n",
    "    \n",
    "    X_b_test = np.c_[np.ones((m, 1)), X_test]\n",
    "    Y_predict = X_b_test @ theta\n",
    "    \n",
    "    return theta, test_index, train_index, Y_predict, J_log"
   ]
  },
  {
   "cell_type": "code",
   "execution_count": 183,
   "id": "d9b1fd27",
   "metadata": {},
   "outputs": [
    {
     "data": {
      "text/plain": [
       "100"
      ]
     },
     "execution_count": 183,
     "metadata": {},
     "output_type": "execute_result"
    }
   ],
   "source": [
    "m = 100\n",
    "X = 2 * np.random.rand(m, 1)\n",
    "y = 3 + 4*X + 1.5*np.random.randn(m, 1)\n",
    "percent = 25\n",
    "len(Y)"
   ]
  },
  {
   "cell_type": "code",
   "execution_count": 187,
   "id": "5345d5a6",
   "metadata": {},
   "outputs": [],
   "source": [
    "X = pd.DataFrame(X)\n",
    "Y = pd.DataFrame(y)\n",
    "eta = 0.005\n",
    "epochs = 1000\n",
    "sample = 20"
   ]
  },
  {
   "cell_type": "code",
   "execution_count": 188,
   "id": "00fcf7af",
   "metadata": {},
   "outputs": [],
   "source": [
    "theta, test_index, train_index, Y_predict, J_log = batch_gradient_descent(X, Y, eta, epochs, sample)"
   ]
  },
  {
   "cell_type": "code",
   "execution_count": 189,
   "id": "42d2d796",
   "metadata": {},
   "outputs": [
    {
     "data": {
      "image/png": "[encoded data removed]",
      "text/plain": [
       "<Figure size 432x288 with 1 Axes>"
      ]
     },
     "metadata": {
      "needs_background": "light"
     },
     "output_type": "display_data"
    }
   ],
   "source": [
    "plt.plot(np.arange(epochs), J_log, 'b-', linewidth=2)\n",
    "plt.show()"
   ]
  },
  {
   "cell_type": "code",
   "execution_count": null,
   "id": "00f735f7",
   "metadata": {},
   "outputs": [],
   "source": []
  }
 ],
 "metadata": {
  "kernelspec": {
   "display_name": "Python 3",
   "language": "python",
   "name": "python3"
  },
  "language_info": {
   "codemirror_mode": {
    "name": "ipython",
    "version": 3
   },
   "file_extension": ".py",
   "mimetype": "text/x-python",
   "name": "python",
   "nbconvert_exporter": "python",
   "pygments_lexer": "ipython3",
   "version": "3.8.8"
  }
 },
 "nbformat": 4,
 "nbformat_minor": 5
}
