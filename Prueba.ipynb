{
 "cells": [
  {
   "cell_type": "code",
   "execution_count": 126,
   "id": "76491e63",
   "metadata": {},
   "outputs": [],
   "source": [
    "import numpy as np\n",
    "import pandas as pd\n",
    "import matplotlib.pyplot as plt\n",
    "import seaborn as sns"
   ]
  },
  {
   "cell_type": "markdown",
   "id": "3d38a5c9",
   "metadata": {},
   "source": [
    "# Función para Ecuación Normal"
   ]
  },
  {
   "cell_type": "code",
   "execution_count": 127,
   "id": "4f7f1862",
   "metadata": {},
   "outputs": [],
   "source": [
    "def normal_equation(X, Y, percent):\n",
    "    '''Esta función sirve para utilizar el método de regresión lineal con ecuación normal\n",
    "    normal_equation(X, Y): \n",
    "    X: Matriz columna de inputs \n",
    "    Y: Matriz columna de outputs\n",
    "    sample: % de datos que seran utilizados para el test (base 100)\n",
    "    \n",
    "    Return: indices_test, indices_train, theta, Y_predict\n",
    "    \n",
    "    indices_test: indices de los valores utilizados para el test\n",
    "    indices_train: indices de los valores utilizados para el entrenamiento\n",
    "    theta: valores correspondientes a theta_n\n",
    "    Y_predict: valores de Y obtenidos de la predicción\n",
    "    '''\n",
    "    import numpy as np\n",
    "    import pandas as pd\n",
    "    import random as random\n",
    "    \n",
    "    m = len(X)\n",
    "    indices_test = list(pd.Series(random.sample(list(np.arange(0, m)), round(m * percent / 100))).sort_values())\n",
    "    indices_train = list(np.arange(0, m))\n",
    "    \n",
    "    for indice in indices_test:\n",
    "        indices_train.remove(indice)\n",
    "\n",
    "    X_train = X[indices_train]\n",
    "    X_test = X[indices_test]\n",
    "    Y_train = Y[indices_train]\n",
    "    Y_test = Y[indices_test]\n",
    "    \n",
    "    m = len(X_train)\n",
    "    \n",
    "    X_b = np.c_[np.ones((m, 1)), X_train]\n",
    "    theta = np.linalg.inv(X_b.T @ X_b) @ X_b.T @ Y_train\n",
    "    \n",
    "    m = len(X_test)\n",
    "    \n",
    "    X_b_test = np.c_[np.ones((m, 1)), X_test]\n",
    "    Y_predict = X_b_test @ theta\n",
    "    \n",
    "    return indices_test, indices_train, theta, Y_predict"
   ]
  },
  {
   "cell_type": "code",
   "execution_count": 128,
   "id": "242e9e9b",
   "metadata": {},
   "outputs": [],
   "source": [
    "m = 100\n",
    "X = 2 * np.random.rand(m, 1)\n",
    "y = 3 + 4*X + 1.5*np.random.randn(m, 1)\n",
    "indices_test, indices_train, theta, Y_predict = normal_equation(X, y, 25)"
   ]
  },
  {
   "cell_type": "code",
   "execution_count": 129,
   "id": "bc9ff165",
   "metadata": {},
   "outputs": [
    {
     "data": {
      "image/png": "[encoded data removed]",
      "text/plain": [
       "<Figure size 432x288 with 1 Axes>"
      ]
     },
     "metadata": {
      "needs_background": "light"
     },
     "output_type": "display_data"
    }
   ],
   "source": [
    "plt.plot(X[indices_train], y[indices_train], \"b.\")\n",
    "plt.plot(X[indices_test], Y_predict, \"r-\", linewidth=2, label=\"Predictions\")\n",
    "plt.xlabel(\"$X_1$\", fontsize=14)\n",
    "plt.ylabel(\"$y$\", fontsize=14, rotation=0)\n",
    "plt.legend(loc=\"upper left\", fontsize=14)\n",
    "plt.axis([0, 2, 0, 15])\n",
    "plt.grid(True)\n",
    "plt.show()"
   ]
  },
  {
   "cell_type": "markdown",
   "id": "365ef3c5",
   "metadata": {},
   "source": [
    "# Datos del archivo A"
   ]
  },
  {
   "cell_type": "code",
   "execution_count": null,
   "id": "571dbbd6",
   "metadata": {},
   "outputs": [],
   "source": []
  }
 ],
 "metadata": {
  "kernelspec": {
   "display_name": "Python 3",
   "language": "python",
   "name": "python3"
  },
  "language_info": {
   "codemirror_mode": {
    "name": "ipython",
    "version": 3
   },
   "file_extension": ".py",
   "mimetype": "text/x-python",
   "name": "python",
   "nbconvert_exporter": "python",
   "pygments_lexer": "ipython3",
   "version": "3.8.8"
  }
 },
 "nbformat": 4,
 "nbformat_minor": 5
}
