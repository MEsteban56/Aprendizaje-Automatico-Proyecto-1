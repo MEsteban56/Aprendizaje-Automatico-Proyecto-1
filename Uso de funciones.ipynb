{
 "cells": [
  {
   "cell_type": "markdown",
   "id": "85c4eaca",
   "metadata": {},
   "source": [
    "# Pruebas con las funciones"
   ]
  },
  {
   "cell_type": "code",
   "execution_count": 1,
   "id": "87793ac1",
   "metadata": {},
   "outputs": [],
   "source": [
    "def batch_gradient_descent(X, Y, eta, epochs, percent):\n",
    "    '''Esta funcion se utiliza para implimentar el método de regresión lineal Batch Gradiente Descent\n",
    "    batch_gradient_descent(X, Y, eta, epocs) where:\n",
    "    X: DataFrame de instancias o features\n",
    "    Y: DataFrame de targets\n",
    "    eta: tasa de aprendizaje (learning rate)\n",
    "    epocs: numero máximo de iteraciones\n",
    "    percent: % de datos que seran utilizados para el test (base 100)\n",
    "    \n",
    "    ------------------------------------\n",
    "    Return:\n",
    "    In order: theta, test_index, train_index, Y_predict, J_log\n",
    "    \n",
    "    theta: valores correspondientes a theta_n\n",
    "    test_index: data test index\n",
    "    train_index: data training index\n",
    "    Y_predict: Y predict values\n",
    "    J_log: errores por numero de epoca\n",
    "    '''\n",
    "    import numpy as np\n",
    "    import pandas as pd\n",
    "    import random as random\n",
    "    \n",
    "    m = len(X)\n",
    "    test_index = list(pd.Series(random.sample(list(np.arange(0, m)), round(m * percent / 100))).sort_values())\n",
    "    train_index = list(np.arange(0, m))\n",
    "    \n",
    "    for element in test_index:\n",
    "        train_index.remove(element)\n",
    "        \n",
    "    \n",
    "    X_train = np.c_[X.iloc[train_index]]\n",
    "    X_test = np.c_[X.iloc[test_index]]\n",
    "    Y_train = np.c_[Y.iloc[train_index]]\n",
    "    Y_test = np.c_[Y.iloc[test_index]]\n",
    "    \n",
    "    # Entrenamiento\n",
    "    \n",
    "    theta = np.random.randn((X.shape[1] + 1), 1)\n",
    "    \n",
    "    J_log = np.zeros(epochs)\n",
    "    \n",
    "    m = len(X_train)\n",
    "    \n",
    "    X_b = np.c_[np.ones((m, 1)), X_train]\n",
    "\n",
    "    for i in range(epochs):\n",
    "        J_log[i] = (2 / m) * ((X_b@theta - Y_train)**2).sum()\n",
    "        gradients = (1 / m) * (X_b.T @ (X_b @ theta - Y_train)) \n",
    "        theta = theta - eta * gradients\n",
    "    \n",
    "    # Test\n",
    "    \n",
    "    m = len(X_test)\n",
    "    \n",
    "    X_b_test = np.c_[np.ones((m, 1)), X_test]\n",
    "    Y_predict = X_b_test @ theta\n",
    "    \n",
    "    return theta, test_index, train_index, Y_predict, J_log"
   ]
  },
  {
   "cell_type": "code",
   "execution_count": 2,
   "id": "8e68f762",
   "metadata": {},
   "outputs": [],
   "source": [
    "import numpy as np\n",
    "import pandas as pd\n",
    "import matplotlib.pyplot as plt\n",
    "import seaborn as sns\n",
    "import random"
   ]
  },
  {
   "cell_type": "code",
   "execution_count": 3,
   "id": "b02917ed",
   "metadata": {},
   "outputs": [],
   "source": [
    "df = pd.read_csv('datos/insurance.csv')\n",
    "genero = pd.get_dummies(df['sex'])\n",
    "fumadores = pd.get_dummies(df['smoker'])\n",
    "region = pd.get_dummies(df['region'])\n",
    "df = pd.concat([df, genero['male'], fumadores['yes'], region], axis=1)\n",
    "df = df.drop(['sex', 'smoker', 'region'], axis=1)\n",
    "df = df.rename(columns={'male':'sex', 'yes':'smoker'})"
   ]
  },
  {
   "cell_type": "code",
   "execution_count": 14,
   "id": "939e694b",
   "metadata": {},
   "outputs": [],
   "source": [
    "X = df[['age', 'bmi', 'smoker']]\n",
    "Y = df[['charges']]"
   ]
  },
  {
   "cell_type": "code",
   "execution_count": 12,
   "id": "fada4841",
   "metadata": {},
   "outputs": [
    {
     "data": {
      "text/html": [
       "<div>\n",
       "<style scoped>\n",
       "    .dataframe tbody tr th:only-of-type {\n",
       "        vertical-align: middle;\n",
       "    }\n",
       "\n",
       "    .dataframe tbody tr th {\n",
       "        vertical-align: top;\n",
       "    }\n",
       "\n",
       "    .dataframe thead th {\n",
       "        text-align: right;\n",
       "    }\n",
       "</style>\n",
       "<table border=\"1\" class=\"dataframe\">\n",
       "  <thead>\n",
       "    <tr style=\"text-align: right;\">\n",
       "      <th></th>\n",
       "      <th>age</th>\n",
       "      <th>bmi</th>\n",
       "      <th>smoker</th>\n",
       "    </tr>\n",
       "  </thead>\n",
       "  <tbody>\n",
       "    <tr>\n",
       "      <th>0</th>\n",
       "      <td>19</td>\n",
       "      <td>27.900</td>\n",
       "      <td>1</td>\n",
       "    </tr>\n",
       "    <tr>\n",
       "      <th>1</th>\n",
       "      <td>18</td>\n",
       "      <td>33.770</td>\n",
       "      <td>0</td>\n",
       "    </tr>\n",
       "    <tr>\n",
       "      <th>2</th>\n",
       "      <td>28</td>\n",
       "      <td>33.000</td>\n",
       "      <td>0</td>\n",
       "    </tr>\n",
       "    <tr>\n",
       "      <th>3</th>\n",
       "      <td>33</td>\n",
       "      <td>22.705</td>\n",
       "      <td>0</td>\n",
       "    </tr>\n",
       "    <tr>\n",
       "      <th>4</th>\n",
       "      <td>32</td>\n",
       "      <td>28.880</td>\n",
       "      <td>0</td>\n",
       "    </tr>\n",
       "    <tr>\n",
       "      <th>...</th>\n",
       "      <td>...</td>\n",
       "      <td>...</td>\n",
       "      <td>...</td>\n",
       "    </tr>\n",
       "    <tr>\n",
       "      <th>1333</th>\n",
       "      <td>50</td>\n",
       "      <td>30.970</td>\n",
       "      <td>0</td>\n",
       "    </tr>\n",
       "    <tr>\n",
       "      <th>1334</th>\n",
       "      <td>18</td>\n",
       "      <td>31.920</td>\n",
       "      <td>0</td>\n",
       "    </tr>\n",
       "    <tr>\n",
       "      <th>1335</th>\n",
       "      <td>18</td>\n",
       "      <td>36.850</td>\n",
       "      <td>0</td>\n",
       "    </tr>\n",
       "    <tr>\n",
       "      <th>1336</th>\n",
       "      <td>21</td>\n",
       "      <td>25.800</td>\n",
       "      <td>0</td>\n",
       "    </tr>\n",
       "    <tr>\n",
       "      <th>1337</th>\n",
       "      <td>61</td>\n",
       "      <td>29.070</td>\n",
       "      <td>1</td>\n",
       "    </tr>\n",
       "  </tbody>\n",
       "</table>\n",
       "<p>1338 rows × 3 columns</p>\n",
       "</div>"
      ],
      "text/plain": [
       "      age     bmi  smoker\n",
       "0      19  27.900       1\n",
       "1      18  33.770       0\n",
       "2      28  33.000       0\n",
       "3      33  22.705       0\n",
       "4      32  28.880       0\n",
       "...   ...     ...     ...\n",
       "1333   50  30.970       0\n",
       "1334   18  31.920       0\n",
       "1335   18  36.850       0\n",
       "1336   21  25.800       0\n",
       "1337   61  29.070       1\n",
       "\n",
       "[1338 rows x 3 columns]"
      ]
     },
     "execution_count": 12,
     "metadata": {},
     "output_type": "execute_result"
    }
   ],
   "source": [
    "X"
   ]
  },
  {
   "cell_type": "code",
   "execution_count": 17,
   "id": "57d969f5",
   "metadata": {},
   "outputs": [],
   "source": [
    "# Indices\n",
    "m = len(X)\n",
    "percent = 20\n",
    "test_index = list(pd.Series(random.sample(list(np.arange(0, m)), round(m * percent / 100))).sort_values())\n",
    "train_index = list(np.arange(0, m))\n",
    "    \n",
    "for element in test_index:\n",
    "    train_index.remove(element)"
   ]
  },
  {
   "cell_type": "code",
   "execution_count": 18,
   "id": "4f955614",
   "metadata": {},
   "outputs": [],
   "source": [
    "X_train = np.c_[X.iloc[train_index]]\n",
    "X_test = np.c_[X.iloc[test_index]]\n",
    "Y_train = np.c_[Y.iloc[train_index]]\n",
    "Y_test = np.c_[Y.iloc[test_index]]"
   ]
  },
  {
   "cell_type": "code",
   "execution_count": 44,
   "id": "d02359c5",
   "metadata": {
    "scrolled": false
   },
   "outputs": [],
   "source": [
    "epochs = 1000\n",
    "eta = 0.00005\n",
    "theta = np.random.randn((X.shape[1] + 1), 1)\n",
    "\n",
    "J_log = np.zeros(epochs)\n",
    "\n",
    "m = len(X_train)\n",
    "\n",
    "X_b = np.c_[np.ones((m, 1)), X_train]\n",
    "\n",
    "for i in range(epochs):\n",
    "    J_log[i] = (2 / m) * ((X_b@theta - Y_train)**2).sum()\n",
    "    gradients = (1 / m) * (X_b.T @ (X_b @ theta - Y_train)) \n",
    "    theta = theta - eta * gradients"
   ]
  },
  {
   "cell_type": "code",
   "execution_count": 46,
   "id": "6e7498ec",
   "metadata": {},
   "outputs": [],
   "source": [
    "m = len(X_test)\n",
    "\n",
    "X_b_test = np.c_[np.ones((m, 1)), X_test]\n",
    "Y_predict = X_b_test @ theta\n",
    "\n",
    "# return theta, test_index, train_index, Y_predict, J_log"
   ]
  },
  {
   "cell_type": "code",
   "execution_count": 47,
   "id": "d7a4a328",
   "metadata": {
    "scrolled": true
   },
   "outputs": [
    {
     "data": {
      "image/png": "[encoded data removed]",
      "text/plain": [
       "<Figure size 432x288 with 1 Axes>"
      ]
     },
     "metadata": {
      "needs_background": "light"
     },
     "output_type": "display_data"
    }
   ],
   "source": [
    "plt.scatter(Y_predict, Y_test)\n",
    "plt.show()"
   ]
  },
  {
   "cell_type": "code",
   "execution_count": 48,
   "id": "09ec460b",
   "metadata": {},
   "outputs": [],
   "source": [
    "theta, test_index, train_index, Y_predict, J_log = batch_gradient_descent(X, Y, eta, epochs, percent)"
   ]
  },
  {
   "cell_type": "code",
   "execution_count": 52,
   "id": "6ff96f13",
   "metadata": {},
   "outputs": [
    {
     "data": {
      "image/png": "[encoded data removed]",
      "text/plain": [
       "<Figure size 432x288 with 1 Axes>"
      ]
     },
     "metadata": {
      "needs_background": "light"
     },
     "output_type": "display_data"
    }
   ],
   "source": [
    "plt.scatter(Y_predict, Y.iloc[test_index])\n",
    "plt.show()"
   ]
  },
  {
   "cell_type": "code",
   "execution_count": null,
   "id": "996c9019",
   "metadata": {},
   "outputs": [],
   "source": []
  }
 ],
 "metadata": {
  "kernelspec": {
   "display_name": "Python 3 (ipykernel)",
   "language": "python",
   "name": "python3"
  },
  "language_info": {
   "codemirror_mode": {
    "name": "ipython",
    "version": 3
   },
   "file_extension": ".py",
   "mimetype": "text/x-python",
   "name": "python",
   "nbconvert_exporter": "python",
   "pygments_lexer": "ipython3",
   "version": "3.8.8"
  }
 },
 "nbformat": 4,
 "nbformat_minor": 5
}
