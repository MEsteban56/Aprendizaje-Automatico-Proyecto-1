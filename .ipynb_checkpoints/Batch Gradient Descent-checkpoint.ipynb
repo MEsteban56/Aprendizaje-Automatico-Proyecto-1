{
 "cells": [
  {
   "cell_type": "code",
   "execution_count": 4,
   "id": "3b0a4cd4",
   "metadata": {},
   "outputs": [],
   "source": [
    "import numpy as np\n",
    "import pandas as pd\n",
    "import matplotlib.pyplot as plt\n",
    "import seaborn as sns\n",
    "import random "
   ]
  },
  {
   "cell_type": "markdown",
   "id": "3b484348",
   "metadata": {},
   "source": [
    "# Batch Gradient Descent Function "
   ]
  },
  {
   "cell_type": "markdown",
   "id": "abd57ede",
   "metadata": {},
   "source": []
  },
  {
   "cell_type": "code",
   "execution_count": 9,
   "id": "17d3bf98",
   "metadata": {},
   "outputs": [],
   "source": [
    "def batch_gradient_descent(X, Y, eta, epocs):\n",
    "    '''Esta funcion se utiliza para implimentar el método de regresión lineal Batch Gradiente Descent\n",
    "    batch_gradient_descent(X, Y, eta, epocs) where:\n",
    "    X: DataFrame de instancias o features\n",
    "    Y: DataFrame de targets\n",
    "    eta: tasa de aprendizaje (learning rate)\n",
    "    epocs: numero máximo de iteraciones\n",
    "    ------------------------------------\n",
    "    Return:\n",
    "    \n",
    "    return theta, test_index, train_index, Y_predict\n",
    "    theta: valores correspondientes a theta_n\n",
    "    test_index: data test index\n",
    "    train_index: data training index\n",
    "    Y_predict: Y predict values\n",
    "    '''\n",
    "    import numpy as np\n",
    "    import pandas as pd\n",
    "    import random as random\n",
    "    \n",
    "    #m = len(X)\n",
    "    #indices_test = list(pd.Series(random.sample(list(np.arange(0, m)), round(m * percent / 100))).sort_values())\n",
    "    #indices_train = list(np.arange(0, m))\n",
    "    \n",
    "    theta = np.random.randn(X.shape[1], 1)\n",
    "    \n",
    "    return theta"
   ]
  },
  {
   "cell_type": "code",
   "execution_count": 11,
   "id": "8bd384a3",
   "metadata": {},
   "outputs": [],
   "source": [
    "a = pd.DataFrame({'Valores':[1, 2, 3, 4], 'otros_valores':[5, 6, 7, 8], 'jaja':[9, 10, 11, 12]})"
   ]
  },
  {
   "cell_type": "code",
   "execution_count": 7,
   "id": "883908c0",
   "metadata": {},
   "outputs": [
    {
     "data": {
      "text/plain": [
       "(4, 2)"
      ]
     },
     "execution_count": 7,
     "metadata": {},
     "output_type": "execute_result"
    }
   ],
   "source": [
    "a.shape"
   ]
  },
  {
   "cell_type": "code",
   "execution_count": 12,
   "id": "a66901d6",
   "metadata": {},
   "outputs": [
    {
     "data": {
      "text/plain": [
       "array([[ 0.16847628],\n",
       "       [-0.41714959],\n",
       "       [-0.27816585]])"
      ]
     },
     "execution_count": 12,
     "metadata": {},
     "output_type": "execute_result"
    }
   ],
   "source": [
    "batch_gradient_descent(a)"
   ]
  },
  {
   "cell_type": "code",
   "execution_count": null,
   "id": "bf1be7a7",
   "metadata": {},
   "outputs": [],
   "source": []
  }
 ],
 "metadata": {
  "kernelspec": {
   "display_name": "Python 3",
   "language": "python",
   "name": "python3"
  },
  "language_info": {
   "codemirror_mode": {
    "name": "ipython",
    "version": 3
   },
   "file_extension": ".py",
   "mimetype": "text/x-python",
   "name": "python",
   "nbconvert_exporter": "python",
   "pygments_lexer": "ipython3",
   "version": "3.8.8"
  }
 },
 "nbformat": 4,
 "nbformat_minor": 5
}
